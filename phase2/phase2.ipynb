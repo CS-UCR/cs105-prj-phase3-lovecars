{
 "cells": [
  {
   "cell_type": "markdown",
   "metadata": {},
   "source": [
    "For this phase we are assigned to do EDA, data cleaning and do some visualization through data cleaning, in my coding and parsing I did most of the data cleaning such as filling all NAN with zeroes, but there are more data, like data type, and "
   ]
  },
  {
   "cell_type": "code",
   "execution_count": 1,
   "metadata": {},
   "outputs": [
    {
     "data": {
      "text/html": [
       "<div>\n",
       "<style scoped>\n",
       "    .dataframe tbody tr th:only-of-type {\n",
       "        vertical-align: middle;\n",
       "    }\n",
       "\n",
       "    .dataframe tbody tr th {\n",
       "        vertical-align: top;\n",
       "    }\n",
       "\n",
       "    .dataframe thead th {\n",
       "        text-align: right;\n",
       "    }\n",
       "</style>\n",
       "<table border=\"1\" class=\"dataframe\">\n",
       "  <thead>\n",
       "    <tr style=\"text-align: right;\">\n",
       "      <th></th>\n",
       "      <th>Year</th>\n",
       "      <th>Brand</th>\n",
       "      <th>Model</th>\n",
       "      <th>Title</th>\n",
       "      <th>Mile</th>\n",
       "      <th>Price</th>\n",
       "      <th>Transmition</th>\n",
       "      <th>EXT_COLOR</th>\n",
       "      <th>INT_COLOR</th>\n",
       "      <th>Derivtrain</th>\n",
       "      <th>zipcode</th>\n",
       "    </tr>\n",
       "  </thead>\n",
       "  <tbody>\n",
       "    <tr>\n",
       "      <th>0</th>\n",
       "      <td>2007</td>\n",
       "      <td>Mazda</td>\n",
       "      <td>CX-7 Sport</td>\n",
       "      <td>USED</td>\n",
       "      <td>75218</td>\n",
       "      <td>5995</td>\n",
       "      <td>Automatic</td>\n",
       "      <td>White</td>\n",
       "      <td>Beige</td>\n",
       "      <td>FWD</td>\n",
       "      <td>92521</td>\n",
       "    </tr>\n",
       "    <tr>\n",
       "      <th>1</th>\n",
       "      <td>2017</td>\n",
       "      <td>Volvo</td>\n",
       "      <td>S90 T5 Momentum</td>\n",
       "      <td>VOLVO CERTIFIED</td>\n",
       "      <td>0</td>\n",
       "      <td>26000</td>\n",
       "      <td>Automatic</td>\n",
       "      <td>Blue</td>\n",
       "      <td>Orange</td>\n",
       "      <td>FWD</td>\n",
       "      <td>92521</td>\n",
       "    </tr>\n",
       "    <tr>\n",
       "      <th>2</th>\n",
       "      <td>2020</td>\n",
       "      <td>BMW</td>\n",
       "      <td>740i</td>\n",
       "      <td>NEW</td>\n",
       "      <td>0</td>\n",
       "      <td>93945</td>\n",
       "      <td>Automatic</td>\n",
       "      <td>Gray</td>\n",
       "      <td>Black</td>\n",
       "      <td>RWD</td>\n",
       "      <td>92521</td>\n",
       "    </tr>\n",
       "    <tr>\n",
       "      <th>3</th>\n",
       "      <td>2008</td>\n",
       "      <td>Chevrolet</td>\n",
       "      <td>Tahoe Hybrid</td>\n",
       "      <td>USED</td>\n",
       "      <td>95000</td>\n",
       "      <td>14499</td>\n",
       "      <td>CVT</td>\n",
       "      <td>Black</td>\n",
       "      <td>Beige</td>\n",
       "      <td>RWD</td>\n",
       "      <td>92521</td>\n",
       "    </tr>\n",
       "    <tr>\n",
       "      <th>4</th>\n",
       "      <td>2019</td>\n",
       "      <td>BMW</td>\n",
       "      <td>330i</td>\n",
       "      <td>NEW</td>\n",
       "      <td>0</td>\n",
       "      <td>46545</td>\n",
       "      <td>Automatic</td>\n",
       "      <td>Blue</td>\n",
       "      <td>Black</td>\n",
       "      <td>RWD</td>\n",
       "      <td>92521</td>\n",
       "    </tr>\n",
       "    <tr>\n",
       "      <th>...</th>\n",
       "      <td>...</td>\n",
       "      <td>...</td>\n",
       "      <td>...</td>\n",
       "      <td>...</td>\n",
       "      <td>...</td>\n",
       "      <td>...</td>\n",
       "      <td>...</td>\n",
       "      <td>...</td>\n",
       "      <td>...</td>\n",
       "      <td>...</td>\n",
       "      <td>...</td>\n",
       "    </tr>\n",
       "    <tr>\n",
       "      <th>29081</th>\n",
       "      <td>2015</td>\n",
       "      <td>Toyota</td>\n",
       "      <td>Avalon Hybrid XLE Premium</td>\n",
       "      <td>USED</td>\n",
       "      <td>57393</td>\n",
       "      <td>14999</td>\n",
       "      <td>CVT</td>\n",
       "      <td>Gray</td>\n",
       "      <td>Gray</td>\n",
       "      <td>FWD</td>\n",
       "      <td>89107</td>\n",
       "    </tr>\n",
       "    <tr>\n",
       "      <th>29082</th>\n",
       "      <td>2016</td>\n",
       "      <td>BMW</td>\n",
       "      <td>M235 i</td>\n",
       "      <td>USED</td>\n",
       "      <td>35782</td>\n",
       "      <td>20999</td>\n",
       "      <td>Manual</td>\n",
       "      <td>Blue</td>\n",
       "      <td>Black</td>\n",
       "      <td>RWD</td>\n",
       "      <td>89107</td>\n",
       "    </tr>\n",
       "    <tr>\n",
       "      <th>29083</th>\n",
       "      <td>2015</td>\n",
       "      <td>Hyundai</td>\n",
       "      <td>Azera Base</td>\n",
       "      <td>USED</td>\n",
       "      <td>64245</td>\n",
       "      <td>12999</td>\n",
       "      <td>Automatic</td>\n",
       "      <td>Black</td>\n",
       "      <td>Black</td>\n",
       "      <td>FWD</td>\n",
       "      <td>89107</td>\n",
       "    </tr>\n",
       "    <tr>\n",
       "      <th>29084</th>\n",
       "      <td>2020</td>\n",
       "      <td>Kia</td>\n",
       "      <td>Rio S</td>\n",
       "      <td>NEW</td>\n",
       "      <td>0</td>\n",
       "      <td>15476</td>\n",
       "      <td>CVT</td>\n",
       "      <td>Black</td>\n",
       "      <td>Black</td>\n",
       "      <td>FWD</td>\n",
       "      <td>89107</td>\n",
       "    </tr>\n",
       "    <tr>\n",
       "      <th>29085</th>\n",
       "      <td>2020</td>\n",
       "      <td>Chevrolet</td>\n",
       "      <td>Trax LS</td>\n",
       "      <td>NEW</td>\n",
       "      <td>0</td>\n",
       "      <td>18505</td>\n",
       "      <td>Automatic</td>\n",
       "      <td>Gray</td>\n",
       "      <td>Other</td>\n",
       "      <td>FWD</td>\n",
       "      <td>89107</td>\n",
       "    </tr>\n",
       "  </tbody>\n",
       "</table>\n",
       "<p>29086 rows × 11 columns</p>\n",
       "</div>"
      ],
      "text/plain": [
       "       Year      Brand                      Model            Title   Mile  \\\n",
       "0      2007      Mazda                 CX-7 Sport             USED  75218   \n",
       "1      2017      Volvo            S90 T5 Momentum  VOLVO CERTIFIED      0   \n",
       "2      2020        BMW                       740i              NEW      0   \n",
       "3      2008  Chevrolet               Tahoe Hybrid             USED  95000   \n",
       "4      2019        BMW                       330i              NEW      0   \n",
       "...     ...        ...                        ...              ...    ...   \n",
       "29081  2015     Toyota  Avalon Hybrid XLE Premium             USED  57393   \n",
       "29082  2016        BMW                     M235 i             USED  35782   \n",
       "29083  2015    Hyundai                 Azera Base             USED  64245   \n",
       "29084  2020        Kia                      Rio S              NEW      0   \n",
       "29085  2020  Chevrolet                    Trax LS              NEW      0   \n",
       "\n",
       "       Price Transmition EXT_COLOR INT_COLOR Derivtrain  zipcode  \n",
       "0       5995   Automatic     White     Beige        FWD    92521  \n",
       "1      26000   Automatic      Blue    Orange        FWD    92521  \n",
       "2      93945   Automatic      Gray     Black        RWD    92521  \n",
       "3      14499         CVT     Black     Beige        RWD    92521  \n",
       "4      46545   Automatic      Blue     Black        RWD    92521  \n",
       "...      ...         ...       ...       ...        ...      ...  \n",
       "29081  14999         CVT      Gray      Gray        FWD    89107  \n",
       "29082  20999      Manual      Blue     Black        RWD    89107  \n",
       "29083  12999   Automatic     Black     Black        FWD    89107  \n",
       "29084  15476         CVT     Black     Black        FWD    89107  \n",
       "29085  18505   Automatic      Gray     Other        FWD    89107  \n",
       "\n",
       "[29086 rows x 11 columns]"
      ]
     },
     "execution_count": 1,
     "metadata": {},
     "output_type": "execute_result"
    }
   ],
   "source": [
    "%matplotlib inline\n",
    "from numpy import * # everything \n",
    "import pandas as pd \n",
    "import matplotlib.pyplot as plt\n",
    "import numpy as np\n",
    "import pandas as pd\n",
    "pd.options.display.max_rows = 10\n",
    "car_df = pd.read_csv(\"result.csv\")\n",
    "car_df"
   ]
  },
  {
   "cell_type": "markdown",
   "metadata": {},
   "source": [
    "Let's see what is our car data years domain, and title of cars we have in our dataset."
   ]
  },
  {
   "cell_type": "code",
   "execution_count": 2,
   "metadata": {},
   "outputs": [
    {
     "name": "stdout",
     "output_type": "stream",
     "text": [
      "Car Years domain:  [1955, 1969, 1971, 1973, 1974, 1976, 1977, 1978, 1981, 1985, 1986, 1987, 1988, 1989, 1990, 1991, 1992, 1993, 1994, 1995, 1996, 1997, 1998, 1999, 2000, 2001, 2002, 2003, 2004, 2005, 2006, 2007, 2008, 2009, 2010, 2011, 2012, 2013, 2014, 2015, 2016, 2017, 2018, 2019, 2020]\n",
      "Title of cars in data:  ['USED' 'VOLVO CERTIFIED' 'NEW' 'HONDA CERTIFIED' 'VOLKSWAGEN CERTIFIED'\n",
      " 'AUDI CERTIFIED' 'LEXUS CERTIFIED' 'SUBARU CERTIFIED' 'ACURA CERTIFIED'\n",
      " 'BMW CERTIFIED' 'FERRARI CERTIFIED' 'TOYOTA CERTIFIED'\n",
      " 'MERCEDES-BENZ CERTIFIED' 'MINI CERTIFIED' 'CADILLAC CERTIFIED'\n",
      " 'CHRYSLER CERTIFIED' 'NISSAN CERTIFIED' 'BUICK CERTIFIED'\n",
      " 'INFINITI CERTIFIED']\n"
     ]
    }
   ],
   "source": [
    "print(\"Car Years domain: \" ,sorted(car_df.Year.unique()))\n",
    "print(\"Title of cars in data: \" , (car_df.Title.unique()))"
   ]
  },
  {
   "cell_type": "markdown",
   "metadata": {},
   "source": [
    "Now we need to see our data types as follow :"
   ]
  },
  {
   "cell_type": "code",
   "execution_count": 3,
   "metadata": {},
   "outputs": [
    {
     "name": "stdout",
     "output_type": "stream",
     "text": [
      "Year            int64\n",
      "Brand          object\n",
      "Model          object\n",
      "Title          object\n",
      "Mile            int64\n",
      "Price          object\n",
      "Transmition    object\n",
      "EXT_COLOR      object\n",
      "INT_COLOR      object\n",
      "Derivtrain     object\n",
      "zipcode         int64\n",
      "dtype: object\n"
     ]
    }
   ],
   "source": [
    "pd.options.display.max_rows = 11\n",
    "print(car_df.dtypes)"
   ]
  },
  {
   "cell_type": "markdown",
   "metadata": {},
   "source": [
    "Here we need to change price data type from object to float which we can easily use it for our visualization :"
   ]
  },
  {
   "cell_type": "code",
   "execution_count": 4,
   "metadata": {},
   "outputs": [
    {
     "data": {
      "text/plain": [
       "dtype('float64')"
      ]
     },
     "execution_count": 4,
     "metadata": {},
     "output_type": "execute_result"
    }
   ],
   "source": [
    "car_df['Price'] = pd.to_numeric(car_df['Price'], errors='coerce')\n",
    "car_df.Price.dtype"
   ]
  },
  {
   "cell_type": "markdown",
   "metadata": {},
   "source": [
    "Lets print max & min car prices :"
   ]
  },
  {
   "cell_type": "code",
   "execution_count": 5,
   "metadata": {},
   "outputs": [
    {
     "name": "stdout",
     "output_type": "stream",
     "text": [
      "max price: 375000.0 min price: 999.0 mean price: 18846.22214197276\n"
     ]
    }
   ],
   "source": [
    "print (\"max price:\", car_df.Price.max(), \"min price:\", car_df.Price.min(), \"mean price:\", car_df.Price.mean() )"
   ]
  },
  {
   "cell_type": "code",
   "execution_count": 6,
   "metadata": {},
   "outputs": [
    {
     "name": "stdout",
     "output_type": "stream",
     "text": [
      "max price: 375000.0 min price: 999.0 mean price: 18846.22214197276\n"
     ]
    }
   ],
   "source": [
    "print (\"max price:\", car_df.Price.max(), \"min price:\", car_df.Price.min(), \"mean price:\", car_df.Price.mean() )"
   ]
  },
  {
   "cell_type": "markdown",
   "metadata": {},
   "source": [
    "Here we can have a histogram of price range which would help us in visualization in the future :"
   ]
  },
  {
   "cell_type": "code",
   "execution_count": 7,
   "metadata": {},
   "outputs": [
    {
     "name": "stderr",
     "output_type": "stream",
     "text": [
      "/usr/local/lib64/python3.6/site-packages/numpy/lib/histograms.py:839: RuntimeWarning: invalid value encountered in greater_equal\n",
      "  keep = (tmp_a >= first_edge)\n",
      "/usr/local/lib64/python3.6/site-packages/numpy/lib/histograms.py:840: RuntimeWarning: invalid value encountered in less_equal\n",
      "  keep &= (tmp_a <= last_edge)\n"
     ]
    },
    {
     "data": {
      "image/png": "[encoded data removed]",
      "text/plain": [
       "<Figure size 432x288 with 1 Axes>"
      ]
     },
     "metadata": {
      "needs_background": "light"
     },
     "output_type": "display_data"
    }
   ],
   "source": [
    "import matplotlib.mlab as mlab\n",
    "import matplotlib.pyplot as plt\n",
    "\n",
    "# plot histogram \n",
    "n, bins, patches = plt.hist(car_df['Price'], 80, facecolor='green')\n",
    "plt.show()"
   ]
  },
  {
   "cell_type": "code",
   "execution_count": 8,
   "metadata": {},
   "outputs": [
    {
     "data": {
      "text/plain": [
       "<matplotlib.axes._subplots.AxesSubplot at 0x7f767501bcc0>"
      ]
     },
     "execution_count": 8,
     "metadata": {},
     "output_type": "execute_result"
    },
    {
     "data": {
      "image/png": "[encoded data removed]",
      "text/plain": [
       "<Figure size 432x288 with 1 Axes>"
      ]
     },
     "metadata": {
      "needs_background": "light"
     },
     "output_type": "display_data"
    }
   ],
   "source": [
    "car_df[car_df.Title == \"NEW\"].Year.plot.hist()"
   ]
  },
  {
   "cell_type": "code",
   "execution_count": 9,
   "metadata": {},
   "outputs": [
    {
     "data": {
      "text/plain": [
       "<matplotlib.axes._subplots.AxesSubplot at 0x7f76728af9b0>"
      ]
     },
     "execution_count": 9,
     "metadata": {},
     "output_type": "execute_result"
    },
    {
     "data": {
      "image/png": "[encoded data removed]",
      "text/plain": [
       "<Figure size 432x288 with 1 Axes>"
      ]
     },
     "metadata": {
      "needs_background": "light"
     },
     "output_type": "display_data"
    }
   ],
   "source": [
    "car_df[car_df.Title == \"USED\"].Year.plot.hist()"
   ]
  },
  {
   "cell_type": "code",
   "execution_count": 10,
   "metadata": {},
   "outputs": [
    {
     "data": {
      "text/plain": [
       "<matplotlib.axes._subplots.AxesSubplot at 0x7f76727c86a0>"
      ]
     },
     "execution_count": 10,
     "metadata": {},
     "output_type": "execute_result"
    },
    {
     "data": {
      "image/png": "[encoded data removed]",
      "text/plain": [
       "<Figure size 432x288 with 1 Axes>"
      ]
     },
     "metadata": {
      "needs_background": "light"
     },
     "output_type": "display_data"
    }
   ],
   "source": [
    "car_df[\"Title\"].value_counts().plot.bar()"
   ]
  },
  {
   "cell_type": "markdown",
   "metadata": {},
   "source": [
    "After checking our categories vs prices we can look at scatter of price vs year to find outliers : "
   ]
  },
  {
   "cell_type": "code",
   "execution_count": 11,
   "metadata": {},
   "outputs": [
    {
     "data": {
      "image/png": "[encoded data removed]",
      "text/plain": [
       "<Figure size 432x288 with 1 Axes>"
      ]
     },
     "metadata": {
      "needs_background": "light"
     },
     "output_type": "display_data"
    }
   ],
   "source": [
    "fig=plt.figure()\n",
    "plt.scatter(car_df.Price, car_df.Year)\n",
    "axis = fig.gca() #get current axis\n",
    "axis.set_title('Price vs Year')\n",
    "axis.set_xlabel('Price')\n",
    "axis.set_ylabel('Year')\n",
    "fig.canvas.draw()"
   ]
  },
  {
   "cell_type": "markdown",
   "metadata": {},
   "source": [
    "Now lets have some boxplot to understand and visialization more on these two categories :"
   ]
  },
  {
   "cell_type": "code",
   "execution_count": 12,
   "metadata": {},
   "outputs": [
    {
     "data": {
      "text/plain": [
       "<matplotlib.axes._subplots.AxesSubplot at 0x7f7668dfebe0>"
      ]
     },
     "execution_count": 12,
     "metadata": {},
     "output_type": "execute_result"
    },
    {
     "data": {
      "image/png": "[encoded data removed]",
      "text/plain": [
       "<Figure size 432x288 with 1 Axes>"
      ]
     },
     "metadata": {
      "needs_background": "light"
     },
     "output_type": "display_data"
    }
   ],
   "source": [
    "import seaborn as sns\n",
    "sns.boxplot(x=car_df[\"Price\"])"
   ]
  },
  {
   "cell_type": "code",
   "execution_count": 13,
   "metadata": {},
   "outputs": [
    {
     "name": "stdout",
     "output_type": "stream",
     "text": [
      "Year                         1988\n",
      "Brand                 Lamborghini\n",
      "Model          Countach LP5000 QV\n",
      "Title                        USED\n",
      "Mile                            0\n",
      "Price                      375000\n",
      "Transmition                Manual\n",
      "EXT_COLOR                   Black\n",
      "INT_COLOR                   Black\n",
      "Derivtrain                    RWD\n",
      "zipcode                     66203\n",
      "Name: 21535, dtype: object\n"
     ]
    }
   ],
   "source": [
    "pd.options.display.max_rows = 16\n",
    "print(car_df.loc[car_df['Price'].idxmax()])"
   ]
  },
  {
   "cell_type": "code",
   "execution_count": 14,
   "metadata": {},
   "outputs": [
    {
     "data": {
      "text/plain": [
       "<matplotlib.axes._subplots.AxesSubplot at 0x7f76686dfb70>"
      ]
     },
     "execution_count": 14,
     "metadata": {},
     "output_type": "execute_result"
    },
    {
     "data": {
      "image/png": "[encoded data removed]",
      "text/plain": [
       "<Figure size 432x288 with 1 Axes>"
      ]
     },
     "metadata": {
      "needs_background": "light"
     },
     "output_type": "display_data"
    }
   ],
   "source": [
    "sns.boxplot(x=car_df[\"Year\"])"
   ]
  },
  {
   "cell_type": "code",
   "execution_count": 15,
   "metadata": {},
   "outputs": [
    {
     "name": "stdout",
     "output_type": "stream",
     "text": [
      "Year                          1955\n",
      "Brand                         Ford\n",
      "Model          Thunderbird Premium\n",
      "Title                         USED\n",
      "Mile                         78000\n",
      "Price                        39995\n",
      "Transmition              Automatic\n",
      "EXT_COLOR                    Black\n",
      "INT_COLOR                      Red\n",
      "Derivtrain                     RWD\n",
      "zipcode                      92521\n",
      "Name: 4083, dtype: object\n"
     ]
    }
   ],
   "source": [
    "pd.options.display.max_rows = 16\n",
    "print(car_df.loc[car_df['Year'].idxmin()])"
   ]
  },
  {
   "cell_type": "code",
   "execution_count": 16,
   "metadata": {},
   "outputs": [],
   "source": [
    "car_df = car_df[car_df.Year > 1955]"
   ]
  },
  {
   "cell_type": "code",
   "execution_count": 17,
   "metadata": {},
   "outputs": [
    {
     "data": {
      "image/png": "[encoded data removed]",
      "text/plain": [
       "<Figure size 432x288 with 1 Axes>"
      ]
     },
     "metadata": {
      "needs_background": "light"
     },
     "output_type": "display_data"
    }
   ],
   "source": [
    "fig=plt.figure()\n",
    "plt.scatter(car_df.Price, car_df.Year)\n",
    "axis = fig.gca() #get current axis\n",
    "axis.set_title('Price vs Year')\n",
    "axis.set_xlabel('Price')\n",
    "axis.set_ylabel('Year')\n",
    "fig.canvas.draw()"
   ]
  },
  {
   "cell_type": "markdown",
   "metadata": {},
   "source": [
    "Here we can see our outliers in the scater plot, and we can go ahead and remove them from our data :"
   ]
  },
  {
   "cell_type": "code",
   "execution_count": 18,
   "metadata": {},
   "outputs": [],
   "source": [
    "car_df = car_df[car_df.Price < 375000]"
   ]
  },
  {
   "cell_type": "code",
   "execution_count": 19,
   "metadata": {},
   "outputs": [
    {
     "data": {
      "image/png": "[encoded data removed]",
      "text/plain": [
       "<Figure size 432x288 with 1 Axes>"
      ]
     },
     "metadata": {
      "needs_background": "light"
     },
     "output_type": "display_data"
    }
   ],
   "source": [
    "fig=plt.figure()\n",
    "plt.scatter(car_df.Price, car_df.Year)\n",
    "axis = fig.gca() #get current axis\n",
    "axis.set_title('Price vs Year')\n",
    "axis.set_xlabel('Price')\n",
    "axis.set_ylabel('Year')\n",
    "fig.canvas.draw()"
   ]
  },
  {
   "cell_type": "code",
   "execution_count": 20,
   "metadata": {},
   "outputs": [
    {
     "data": {
      "text/plain": [
       "Chevrolet     14592\n",
       "Nissan         3126\n",
       "Ford           1512\n",
       "Hyundai         821\n",
       "Dodge           686\n",
       "              ...  \n",
       "Suzuki           10\n",
       "Plymouth          8\n",
       "Oldsmobile        8\n",
       "MG                8\n",
       "Geo               6\n",
       "Name: Brand, Length: 53, dtype: int64"
      ]
     },
     "execution_count": 20,
     "metadata": {},
     "output_type": "execute_result"
    }
   ],
   "source": [
    "car_df['Brand'].value_counts()"
   ]
  },
  {
   "cell_type": "code",
   "execution_count": 21,
   "metadata": {},
   "outputs": [
    {
     "ename": "ModuleNotFoundError",
     "evalue": "No module named 'pandas.tools'",
     "output_type": "error",
     "traceback": [
      "\u001b[0;31m---------------------------------------------------------------------------\u001b[0m",
      "\u001b[0;31mModuleNotFoundError\u001b[0m                       Traceback (most recent call last)",
      "\u001b[0;32m<ipython-input-21-d03083ccaeac>\u001b[0m in \u001b[0;36m<module>\u001b[0;34m\u001b[0m\n\u001b[1;32m      2\u001b[0m \u001b[0;32mimport\u001b[0m \u001b[0mpandas\u001b[0m \u001b[0;32mas\u001b[0m \u001b[0mpd\u001b[0m\u001b[0;34m\u001b[0m\u001b[0;34m\u001b[0m\u001b[0m\n\u001b[1;32m      3\u001b[0m \u001b[0;32mimport\u001b[0m \u001b[0mmatplotlib\u001b[0m\u001b[0;34m.\u001b[0m\u001b[0mpyplot\u001b[0m \u001b[0;32mas\u001b[0m \u001b[0mplt\u001b[0m\u001b[0;34m\u001b[0m\u001b[0;34m\u001b[0m\u001b[0m\n\u001b[0;32m----> 4\u001b[0;31m \u001b[0;32mfrom\u001b[0m \u001b[0mpandas\u001b[0m\u001b[0;34m.\u001b[0m\u001b[0mtools\u001b[0m\u001b[0;34m.\u001b[0m\u001b[0mplotting\u001b[0m \u001b[0;32mimport\u001b[0m \u001b[0mparallel_coordinates\u001b[0m\u001b[0;34m\u001b[0m\u001b[0;34m\u001b[0m\u001b[0m\n\u001b[0m\u001b[1;32m      5\u001b[0m \u001b[0mparallel_coordinates\u001b[0m\u001b[0;34m(\u001b[0m\u001b[0mcar_df\u001b[0m\u001b[0;34m[\u001b[0m\u001b[0;34m[\u001b[0m\u001b[0;34m'Brand'\u001b[0m\u001b[0;34m,\u001b[0m \u001b[0;34m'Price'\u001b[0m\u001b[0;34m,\u001b[0m \u001b[0;34m'Year'\u001b[0m\u001b[0;34m]\u001b[0m\u001b[0;34m]\u001b[0m\u001b[0;34m,\u001b[0m\u001b[0;34m\"Brand\"\u001b[0m\u001b[0;34m)\u001b[0m\u001b[0;34m\u001b[0m\u001b[0;34m\u001b[0m\u001b[0m\n",
      "\u001b[0;31mModuleNotFoundError\u001b[0m: No module named 'pandas.tools'"
     ]
    }
   ],
   "source": [
    "from matplotlib import pyplot as plt\n",
    "import pandas as pd\n",
    "import matplotlib.pyplot as plt\n",
    "from pandas.tools.plotting import parallel_coordinates\n",
    "parallel_coordinates(car_df[['Brand', 'Price', 'Year']],\"Brand\")"
   ]
  },
  {
   "cell_type": "code",
   "execution_count": null,
   "metadata": {},
   "outputs": [],
   "source": []
  },
  {
   "cell_type": "code",
   "execution_count": null,
   "metadata": {},
   "outputs": [],
   "source": []
  }
 ],
 "metadata": {
  "kernelspec": {
   "display_name": "Python 3",
   "language": "python",
   "name": "python3"
  },
  "language_info": {
   "codemirror_mode": {
    "name": "ipython",
    "version": 3
   },
   "file_extension": ".py",
   "mimetype": "text/x-python",
   "name": "python",
   "nbconvert_exporter": "python",
   "pygments_lexer": "ipython3",
   "version": "3.6.8"
  }
 },
 "nbformat": 4,
 "nbformat_minor": 4
}
