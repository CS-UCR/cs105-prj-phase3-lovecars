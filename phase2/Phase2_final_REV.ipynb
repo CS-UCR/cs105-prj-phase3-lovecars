{
 "cells": [
  {
   "cell_type": "markdown",
   "metadata": {},
   "source": [
    "For this phase we are assigned to do EDA, data cleaning and do some visualization through data cleaning, in my coding and parsing I did most of the data cleaning such as filling all NAN with zeroes, but there are more data, like data type, and etc, need to be consider in this phase. "
   ]
  },
  {
   "cell_type": "code",
   "execution_count": 3,
   "metadata": {},
   "outputs": [],
   "source": [
    "import pandas as pd\n",
    "import matplotlib.pyplot as plt\n",
    "import seaborn as sns\n",
    "import numpy as np\n",
    "import numpy.random as nr\n",
    "import math\n",
    "\n",
    "%matplotlib inline"
   ]
  },
  {
   "cell_type": "markdown",
   "metadata": {},
   "source": [
    "AS always Lets read our Data, The data that I already saved in csv from phase one. These data been seprated and parsed during crawling."
   ]
  },
  {
   "cell_type": "code",
   "execution_count": 4,
   "metadata": {},
   "outputs": [
    {
     "data": {
      "text/html": [
       "<div>\n",
       "<style scoped>\n",
       "    .dataframe tbody tr th:only-of-type {\n",
       "        vertical-align: middle;\n",
       "    }\n",
       "\n",
       "    .dataframe tbody tr th {\n",
       "        vertical-align: top;\n",
       "    }\n",
       "\n",
       "    .dataframe thead th {\n",
       "        text-align: right;\n",
       "    }\n",
       "</style>\n",
       "<table border=\"1\" class=\"dataframe\">\n",
       "  <thead>\n",
       "    <tr style=\"text-align: right;\">\n",
       "      <th></th>\n",
       "      <th>Year</th>\n",
       "      <th>Brand</th>\n",
       "      <th>Model</th>\n",
       "      <th>Title</th>\n",
       "      <th>Mile</th>\n",
       "      <th>Price</th>\n",
       "      <th>Transmition</th>\n",
       "      <th>EXT_COLOR</th>\n",
       "      <th>INT_COLOR</th>\n",
       "      <th>Derivtrain</th>\n",
       "      <th>zipcode</th>\n",
       "    </tr>\n",
       "  </thead>\n",
       "  <tbody>\n",
       "    <tr>\n",
       "      <th>0</th>\n",
       "      <td>2007</td>\n",
       "      <td>Mazda</td>\n",
       "      <td>CX-7 Sport</td>\n",
       "      <td>USED</td>\n",
       "      <td>75218</td>\n",
       "      <td>5995</td>\n",
       "      <td>Automatic</td>\n",
       "      <td>White</td>\n",
       "      <td>Beige</td>\n",
       "      <td>FWD</td>\n",
       "      <td>92521</td>\n",
       "    </tr>\n",
       "    <tr>\n",
       "      <th>1</th>\n",
       "      <td>2017</td>\n",
       "      <td>Volvo</td>\n",
       "      <td>S90 T5 Momentum</td>\n",
       "      <td>VOLVO CERTIFIED</td>\n",
       "      <td>0</td>\n",
       "      <td>26000</td>\n",
       "      <td>Automatic</td>\n",
       "      <td>Blue</td>\n",
       "      <td>Orange</td>\n",
       "      <td>FWD</td>\n",
       "      <td>92521</td>\n",
       "    </tr>\n",
       "    <tr>\n",
       "      <th>2</th>\n",
       "      <td>2020</td>\n",
       "      <td>BMW</td>\n",
       "      <td>740i</td>\n",
       "      <td>NEW</td>\n",
       "      <td>0</td>\n",
       "      <td>93945</td>\n",
       "      <td>Automatic</td>\n",
       "      <td>Gray</td>\n",
       "      <td>Black</td>\n",
       "      <td>RWD</td>\n",
       "      <td>92521</td>\n",
       "    </tr>\n",
       "    <tr>\n",
       "      <th>3</th>\n",
       "      <td>2008</td>\n",
       "      <td>Chevrolet</td>\n",
       "      <td>Tahoe Hybrid</td>\n",
       "      <td>USED</td>\n",
       "      <td>95000</td>\n",
       "      <td>14499</td>\n",
       "      <td>CVT</td>\n",
       "      <td>Black</td>\n",
       "      <td>Beige</td>\n",
       "      <td>RWD</td>\n",
       "      <td>92521</td>\n",
       "    </tr>\n",
       "    <tr>\n",
       "      <th>4</th>\n",
       "      <td>2019</td>\n",
       "      <td>BMW</td>\n",
       "      <td>330i</td>\n",
       "      <td>NEW</td>\n",
       "      <td>0</td>\n",
       "      <td>46545</td>\n",
       "      <td>Automatic</td>\n",
       "      <td>Blue</td>\n",
       "      <td>Black</td>\n",
       "      <td>RWD</td>\n",
       "      <td>92521</td>\n",
       "    </tr>\n",
       "    <tr>\n",
       "      <th>...</th>\n",
       "      <td>...</td>\n",
       "      <td>...</td>\n",
       "      <td>...</td>\n",
       "      <td>...</td>\n",
       "      <td>...</td>\n",
       "      <td>...</td>\n",
       "      <td>...</td>\n",
       "      <td>...</td>\n",
       "      <td>...</td>\n",
       "      <td>...</td>\n",
       "      <td>...</td>\n",
       "    </tr>\n",
       "    <tr>\n",
       "      <th>29081</th>\n",
       "      <td>2015</td>\n",
       "      <td>Toyota</td>\n",
       "      <td>Avalon Hybrid XLE Premium</td>\n",
       "      <td>USED</td>\n",
       "      <td>57393</td>\n",
       "      <td>14999</td>\n",
       "      <td>CVT</td>\n",
       "      <td>Gray</td>\n",
       "      <td>Gray</td>\n",
       "      <td>FWD</td>\n",
       "      <td>89107</td>\n",
       "    </tr>\n",
       "    <tr>\n",
       "      <th>29082</th>\n",
       "      <td>2016</td>\n",
       "      <td>BMW</td>\n",
       "      <td>M235 i</td>\n",
       "      <td>USED</td>\n",
       "      <td>35782</td>\n",
       "      <td>20999</td>\n",
       "      <td>Manual</td>\n",
       "      <td>Blue</td>\n",
       "      <td>Black</td>\n",
       "      <td>RWD</td>\n",
       "      <td>89107</td>\n",
       "    </tr>\n",
       "    <tr>\n",
       "      <th>29083</th>\n",
       "      <td>2015</td>\n",
       "      <td>Hyundai</td>\n",
       "      <td>Azera Base</td>\n",
       "      <td>USED</td>\n",
       "      <td>64245</td>\n",
       "      <td>12999</td>\n",
       "      <td>Automatic</td>\n",
       "      <td>Black</td>\n",
       "      <td>Black</td>\n",
       "      <td>FWD</td>\n",
       "      <td>89107</td>\n",
       "    </tr>\n",
       "    <tr>\n",
       "      <th>29084</th>\n",
       "      <td>2020</td>\n",
       "      <td>Kia</td>\n",
       "      <td>Rio S</td>\n",
       "      <td>NEW</td>\n",
       "      <td>0</td>\n",
       "      <td>15476</td>\n",
       "      <td>CVT</td>\n",
       "      <td>Black</td>\n",
       "      <td>Black</td>\n",
       "      <td>FWD</td>\n",
       "      <td>89107</td>\n",
       "    </tr>\n",
       "    <tr>\n",
       "      <th>29085</th>\n",
       "      <td>2020</td>\n",
       "      <td>Chevrolet</td>\n",
       "      <td>Trax LS</td>\n",
       "      <td>NEW</td>\n",
       "      <td>0</td>\n",
       "      <td>18505</td>\n",
       "      <td>Automatic</td>\n",
       "      <td>Gray</td>\n",
       "      <td>Other</td>\n",
       "      <td>FWD</td>\n",
       "      <td>89107</td>\n",
       "    </tr>\n",
       "  </tbody>\n",
       "</table>\n",
       "<p>29086 rows × 11 columns</p>\n",
       "</div>"
      ],
      "text/plain": [
       "       Year      Brand                      Model            Title   Mile  \\\n",
       "0      2007      Mazda                 CX-7 Sport             USED  75218   \n",
       "1      2017      Volvo            S90 T5 Momentum  VOLVO CERTIFIED      0   \n",
       "2      2020        BMW                       740i              NEW      0   \n",
       "3      2008  Chevrolet               Tahoe Hybrid             USED  95000   \n",
       "4      2019        BMW                       330i              NEW      0   \n",
       "...     ...        ...                        ...              ...    ...   \n",
       "29081  2015     Toyota  Avalon Hybrid XLE Premium             USED  57393   \n",
       "29082  2016        BMW                     M235 i             USED  35782   \n",
       "29083  2015    Hyundai                 Azera Base             USED  64245   \n",
       "29084  2020        Kia                      Rio S              NEW      0   \n",
       "29085  2020  Chevrolet                    Trax LS              NEW      0   \n",
       "\n",
       "       Price Transmition EXT_COLOR INT_COLOR Derivtrain  zipcode  \n",
       "0       5995   Automatic     White     Beige        FWD    92521  \n",
       "1      26000   Automatic      Blue    Orange        FWD    92521  \n",
       "2      93945   Automatic      Gray     Black        RWD    92521  \n",
       "3      14499         CVT     Black     Beige        RWD    92521  \n",
       "4      46545   Automatic      Blue     Black        RWD    92521  \n",
       "...      ...         ...       ...       ...        ...      ...  \n",
       "29081  14999         CVT      Gray      Gray        FWD    89107  \n",
       "29082  20999      Manual      Blue     Black        RWD    89107  \n",
       "29083  12999   Automatic     Black     Black        FWD    89107  \n",
       "29084  15476         CVT     Black     Black        FWD    89107  \n",
       "29085  18505   Automatic      Gray     Other        FWD    89107  \n",
       "\n",
       "[29086 rows x 11 columns]"
      ]
     },
     "execution_count": 4,
     "metadata": {},
     "output_type": "execute_result"
    }
   ],
   "source": [
    "%matplotlib inline\n",
    "from numpy import * # everything \n",
    "import pandas as pd \n",
    "import matplotlib.pyplot as plt\n",
    "import numpy as np\n",
    "import pandas as pd\n",
    "pd.options.display.max_rows = 10\n",
    "car_df = pd.read_csv(\"result.csv\")\n",
    "car_df"
   ]
  },
  {
   "cell_type": "markdown",
   "metadata": {},
   "source": [
    "In this part, I'm going to set my data and sorted by brand name, which is more makes sense.\n"
   ]
  },
  {
   "cell_type": "code",
   "execution_count": 5,
   "metadata": {},
   "outputs": [
    {
     "data": {
      "text/html": [
       "<div>\n",
       "<style scoped>\n",
       "    .dataframe tbody tr th:only-of-type {\n",
       "        vertical-align: middle;\n",
       "    }\n",
       "\n",
       "    .dataframe tbody tr th {\n",
       "        vertical-align: top;\n",
       "    }\n",
       "\n",
       "    .dataframe thead th {\n",
       "        text-align: right;\n",
       "    }\n",
       "</style>\n",
       "<table border=\"1\" class=\"dataframe\">\n",
       "  <thead>\n",
       "    <tr style=\"text-align: right;\">\n",
       "      <th></th>\n",
       "      <th>Year</th>\n",
       "      <th>Brand</th>\n",
       "      <th>Model</th>\n",
       "      <th>Title</th>\n",
       "      <th>Mile</th>\n",
       "      <th>Price</th>\n",
       "      <th>Transmition</th>\n",
       "      <th>EXT_COLOR</th>\n",
       "      <th>INT_COLOR</th>\n",
       "      <th>Derivtrain</th>\n",
       "      <th>zipcode</th>\n",
       "    </tr>\n",
       "  </thead>\n",
       "  <tbody>\n",
       "    <tr>\n",
       "      <th>20531</th>\n",
       "      <td>2017</td>\n",
       "      <td>Acura</td>\n",
       "      <td>ILX Base</td>\n",
       "      <td>USED</td>\n",
       "      <td>37874</td>\n",
       "      <td>14495</td>\n",
       "      <td>Automatic</td>\n",
       "      <td>White</td>\n",
       "      <td>Black</td>\n",
       "      <td>FWD</td>\n",
       "      <td>66203</td>\n",
       "    </tr>\n",
       "    <tr>\n",
       "      <th>25553</th>\n",
       "      <td>2017</td>\n",
       "      <td>Acura</td>\n",
       "      <td>ILX Base</td>\n",
       "      <td>USED</td>\n",
       "      <td>37874</td>\n",
       "      <td>14495</td>\n",
       "      <td>Automatic</td>\n",
       "      <td>White</td>\n",
       "      <td>Black</td>\n",
       "      <td>FWD</td>\n",
       "      <td>89107</td>\n",
       "    </tr>\n",
       "    <tr>\n",
       "      <th>26508</th>\n",
       "      <td>2015</td>\n",
       "      <td>Acura</td>\n",
       "      <td>TLX V6 Advance</td>\n",
       "      <td>USED</td>\n",
       "      <td>29317</td>\n",
       "      <td>14969</td>\n",
       "      <td>Automatic</td>\n",
       "      <td>White</td>\n",
       "      <td>Gray</td>\n",
       "      <td>FWD</td>\n",
       "      <td>89107</td>\n",
       "    </tr>\n",
       "    <tr>\n",
       "      <th>5267</th>\n",
       "      <td>2016</td>\n",
       "      <td>Acura</td>\n",
       "      <td>ILX Technology Plus Package</td>\n",
       "      <td>USED</td>\n",
       "      <td>22732</td>\n",
       "      <td>13999</td>\n",
       "      <td>Automatic</td>\n",
       "      <td>White</td>\n",
       "      <td>Black</td>\n",
       "      <td>FWD</td>\n",
       "      <td>99115</td>\n",
       "    </tr>\n",
       "    <tr>\n",
       "      <th>20211</th>\n",
       "      <td>2019</td>\n",
       "      <td>Acura</td>\n",
       "      <td>MDX Sport Hybrid 3.0L w/Advance Package</td>\n",
       "      <td>USED</td>\n",
       "      <td>0</td>\n",
       "      <td>40945</td>\n",
       "      <td>Automatic</td>\n",
       "      <td>Black</td>\n",
       "      <td>Black</td>\n",
       "      <td>AWD</td>\n",
       "      <td>66203</td>\n",
       "    </tr>\n",
       "    <tr>\n",
       "      <th>...</th>\n",
       "      <td>...</td>\n",
       "      <td>...</td>\n",
       "      <td>...</td>\n",
       "      <td>...</td>\n",
       "      <td>...</td>\n",
       "      <td>...</td>\n",
       "      <td>...</td>\n",
       "      <td>...</td>\n",
       "      <td>...</td>\n",
       "      <td>...</td>\n",
       "      <td>...</td>\n",
       "    </tr>\n",
       "    <tr>\n",
       "      <th>16793</th>\n",
       "      <td>2012</td>\n",
       "      <td>smart</td>\n",
       "      <td>ForTwo Pure</td>\n",
       "      <td>USED</td>\n",
       "      <td>45872</td>\n",
       "      <td>7998</td>\n",
       "      <td>Automatic</td>\n",
       "      <td>White</td>\n",
       "      <td>Black</td>\n",
       "      <td>RWD</td>\n",
       "      <td>75207</td>\n",
       "    </tr>\n",
       "    <tr>\n",
       "      <th>12365</th>\n",
       "      <td>2013</td>\n",
       "      <td>smart</td>\n",
       "      <td>ForTwo Pure</td>\n",
       "      <td>USED</td>\n",
       "      <td>32272</td>\n",
       "      <td>5980</td>\n",
       "      <td>Automatic</td>\n",
       "      <td>Black</td>\n",
       "      <td>Black</td>\n",
       "      <td>RWD</td>\n",
       "      <td>11101</td>\n",
       "    </tr>\n",
       "    <tr>\n",
       "      <th>6707</th>\n",
       "      <td>2012</td>\n",
       "      <td>smart</td>\n",
       "      <td>ForTwo Pure</td>\n",
       "      <td>USED</td>\n",
       "      <td>45872</td>\n",
       "      <td>7998</td>\n",
       "      <td>Automatic</td>\n",
       "      <td>White</td>\n",
       "      <td>Black</td>\n",
       "      <td>RWD</td>\n",
       "      <td>99115</td>\n",
       "    </tr>\n",
       "    <tr>\n",
       "      <th>23491</th>\n",
       "      <td>2012</td>\n",
       "      <td>smart</td>\n",
       "      <td>ForTwo Pure</td>\n",
       "      <td>USED</td>\n",
       "      <td>45672</td>\n",
       "      <td>6980</td>\n",
       "      <td>Automatic</td>\n",
       "      <td>Blue</td>\n",
       "      <td>Black</td>\n",
       "      <td>RWD</td>\n",
       "      <td>66203</td>\n",
       "    </tr>\n",
       "    <tr>\n",
       "      <th>15087</th>\n",
       "      <td>2017</td>\n",
       "      <td>smart</td>\n",
       "      <td>ForTwo Electric Drive passion</td>\n",
       "      <td>USED</td>\n",
       "      <td>14565</td>\n",
       "      <td>7997</td>\n",
       "      <td>Automatic</td>\n",
       "      <td>White</td>\n",
       "      <td>Black</td>\n",
       "      <td>RWD</td>\n",
       "      <td>75207</td>\n",
       "    </tr>\n",
       "  </tbody>\n",
       "</table>\n",
       "<p>29086 rows × 11 columns</p>\n",
       "</div>"
      ],
      "text/plain": [
       "       Year  Brand                                    Model Title   Mile  \\\n",
       "20531  2017  Acura                                 ILX Base  USED  37874   \n",
       "25553  2017  Acura                                 ILX Base  USED  37874   \n",
       "26508  2015  Acura                           TLX V6 Advance  USED  29317   \n",
       "5267   2016  Acura              ILX Technology Plus Package  USED  22732   \n",
       "20211  2019  Acura  MDX Sport Hybrid 3.0L w/Advance Package  USED      0   \n",
       "...     ...    ...                                      ...   ...    ...   \n",
       "16793  2012  smart                              ForTwo Pure  USED  45872   \n",
       "12365  2013  smart                              ForTwo Pure  USED  32272   \n",
       "6707   2012  smart                              ForTwo Pure  USED  45872   \n",
       "23491  2012  smart                              ForTwo Pure  USED  45672   \n",
       "15087  2017  smart            ForTwo Electric Drive passion  USED  14565   \n",
       "\n",
       "       Price Transmition EXT_COLOR INT_COLOR Derivtrain  zipcode  \n",
       "20531  14495   Automatic     White     Black        FWD    66203  \n",
       "25553  14495   Automatic     White     Black        FWD    89107  \n",
       "26508  14969   Automatic     White      Gray        FWD    89107  \n",
       "5267   13999   Automatic     White     Black        FWD    99115  \n",
       "20211  40945   Automatic     Black     Black        AWD    66203  \n",
       "...      ...         ...       ...       ...        ...      ...  \n",
       "16793   7998   Automatic     White     Black        RWD    75207  \n",
       "12365   5980   Automatic     Black     Black        RWD    11101  \n",
       "6707    7998   Automatic     White     Black        RWD    99115  \n",
       "23491   6980   Automatic      Blue     Black        RWD    66203  \n",
       "15087   7997   Automatic     White     Black        RWD    75207  \n",
       "\n",
       "[29086 rows x 11 columns]"
      ]
     },
     "execution_count": 5,
     "metadata": {},
     "output_type": "execute_result"
    }
   ],
   "source": [
    "car_df.sort_values(\"Brand\", axis = 0, ascending = True, inplace = True, na_position ='last')\n",
    "car_df"
   ]
  },
  {
   "cell_type": "markdown",
   "metadata": {},
   "source": [
    "This data is tabular and includes:   \n",
    "\n",
    "- Year  ->Car year\n",
    "- Brand -> Brand who MakeCar\n",
    "- Model ->Car Model\n",
    "- Title -> is it brand new, used, or dealer certified\n",
    "- Mile -> miles of used car, or 0 for new\n",
    "- Price\n",
    "- Transmission Type\n",
    "- EXT_COLOR -> exterior color\n",
    "- INT_COLOR -> interior color\n",
    "- Derivtrain -> SUV, or sedan ...\n",
    "- zipcode -> the specific car crawled from this zip code\n"
   ]
  },
  {
   "cell_type": "markdown",
   "metadata": {},
   "source": [
    "Check to see what model type cars we have in our dataset. "
   ]
  },
  {
   "cell_type": "code",
   "execution_count": 6,
   "metadata": {},
   "outputs": [
    {
     "data": {
      "text/plain": [
       "array(['ILX Base', 'TLX V6 Advance', 'ILX Technology Plus Package', ...,\n",
       "       'ForTwo Passion', 'ForTwo Pure', 'ForTwo Electric Drive Passion'],\n",
       "      dtype=object)"
      ]
     },
     "execution_count": 6,
     "metadata": {},
     "output_type": "execute_result"
    }
   ],
   "source": [
    "pd.options.display.max_rows = 11\n",
    "car_df.Model.unique()"
   ]
  },
  {
   "cell_type": "markdown",
   "metadata": {},
   "source": [
    "Let's see what is our car data years domain, and title of cars we have in our dataset."
   ]
  },
  {
   "cell_type": "code",
   "execution_count": 5,
   "metadata": {},
   "outputs": [
    {
     "name": "stdout",
     "output_type": "stream",
     "text": [
      "Car Years domain:  [1955, 1969, 1971, 1973, 1974, 1976, 1977, 1978, 1981, 1985, 1986, 1987, 1988, 1989, 1990, 1991, 1992, 1993, 1994, 1995, 1996, 1997, 1998, 1999, 2000, 2001, 2002, 2003, 2004, 2005, 2006, 2007, 2008, 2009, 2010, 2011, 2012, 2013, 2014, 2015, 2016, 2017, 2018, 2019, 2020]\n",
      "Title of cars in data:  ['USED' 'ACURA CERTIFIED' 'NEW' 'AUDI CERTIFIED' 'BMW CERTIFIED'\n",
      " 'BUICK CERTIFIED' 'CADILLAC CERTIFIED' 'CHRYSLER CERTIFIED'\n",
      " 'FERRARI CERTIFIED' 'HONDA CERTIFIED' 'INFINITI CERTIFIED'\n",
      " 'LEXUS CERTIFIED' 'MINI CERTIFIED' 'MERCEDES-BENZ CERTIFIED'\n",
      " 'NISSAN CERTIFIED' 'SUBARU CERTIFIED' 'TOYOTA CERTIFIED'\n",
      " 'VOLKSWAGEN CERTIFIED' 'VOLVO CERTIFIED']\n"
     ]
    }
   ],
   "source": [
    "print(\"Car Years domain: \" ,sorted(car_df.Year.unique()))\n",
    "print(\"Title of cars in data: \" , (car_df.Title.unique()))"
   ]
  },
  {
   "cell_type": "markdown",
   "metadata": {},
   "source": [
    "Now we need to see our data types and the column that need to change to float, or int, to do our comparison and visualization :\n"
   ]
  },
  {
   "cell_type": "code",
   "execution_count": 7,
   "metadata": {},
   "outputs": [
    {
     "name": "stdout",
     "output_type": "stream",
     "text": [
      "Year            int64\n",
      "Brand          object\n",
      "Model          object\n",
      "Title          object\n",
      "Mile            int64\n",
      "Price          object\n",
      "Transmition    object\n",
      "EXT_COLOR      object\n",
      "INT_COLOR      object\n",
      "Derivtrain     object\n",
      "zipcode         int64\n",
      "dtype: object\n"
     ]
    }
   ],
   "source": [
    "pd.options.display.max_rows = 11\n",
    "print(car_df.dtypes)"
   ]
  },
  {
   "cell_type": "markdown",
   "metadata": {},
   "source": [
    "Here we need to change price data type from object to float which we can easily use it for our visualization :"
   ]
  },
  {
   "cell_type": "code",
   "execution_count": 8,
   "metadata": {},
   "outputs": [
    {
     "data": {
      "text/plain": [
       "dtype('float64')"
      ]
     },
     "execution_count": 8,
     "metadata": {},
     "output_type": "execute_result"
    }
   ],
   "source": [
    "car_df['Price'] = pd.to_numeric(car_df['Price'], errors='coerce')\n",
    "car_df.Price.dtype"
   ]
  },
  {
   "cell_type": "markdown",
   "metadata": {},
   "source": [
    "Lets print max & min car prices :"
   ]
  },
  {
   "cell_type": "code",
   "execution_count": 10,
   "metadata": {},
   "outputs": [
    {
     "name": "stdout",
     "output_type": "stream",
     "text": [
      "max price: 375000.0 min price: 999.0 mean price: 18846.22214197276\n"
     ]
    }
   ],
   "source": [
    "print (\"max price:\", car_df.Price.max(), \"min price:\", car_df.Price.min(), \"mean price:\", car_df.Price.mean() )"
   ]
  },
  {
   "cell_type": "markdown",
   "metadata": {},
   "source": [
    "Here we can have a histogram of price range which would help us in visualization in the future :"
   ]
  },
  {
   "cell_type": "code",
   "execution_count": 11,
   "metadata": {},
   "outputs": [
    {
     "name": "stderr",
     "output_type": "stream",
     "text": [
      "/home/csmajs/hesma001/.local/lib/python3.6/site-packages/numpy/lib/histograms.py:839: RuntimeWarning: invalid value encountered in greater_equal\n",
      "  keep = (tmp_a >= first_edge)\n",
      "/home/csmajs/hesma001/.local/lib/python3.6/site-packages/numpy/lib/histograms.py:840: RuntimeWarning: invalid value encountered in less_equal\n",
      "  keep &= (tmp_a <= last_edge)\n"
     ]
    },
    {
     "data": {
      "image/png": "[encoded data removed]",
      "text/plain": [
       "<Figure size 432x288 with 1 Axes>"
      ]
     },
     "metadata": {
      "needs_background": "light"
     },
     "output_type": "display_data"
    }
   ],
   "source": [
    "import matplotlib.mlab as mlab\n",
    "import matplotlib.pyplot as plt\n",
    "\n",
    "# plot histogram \n",
    "n, bins, patches = plt.hist(car_df['Price'], 80, facecolor='green')\n",
    "plt.show()"
   ]
  },
  {
   "cell_type": "markdown",
   "metadata": {},
   "source": [
    "Now I'm going to visualize the year range of New, and cars with a histogram plot :\n"
   ]
  },
  {
   "cell_type": "code",
   "execution_count": 12,
   "metadata": {},
   "outputs": [
    {
     "data": {
      "text/plain": [
       "<matplotlib.axes._subplots.AxesSubplot at 0x7f3d1296b208>"
      ]
     },
     "execution_count": 12,
     "metadata": {},
     "output_type": "execute_result"
    },
    {
     "data": {
      "image/png": "[encoded data removed]",
      "text/plain": [
       "<Figure size 432x288 with 1 Axes>"
      ]
     },
     "metadata": {
      "needs_background": "light"
     },
     "output_type": "display_data"
    }
   ],
   "source": [
    "car_df[car_df.Title == \"NEW\"].Year.plot.hist()"
   ]
  },
  {
   "cell_type": "code",
   "execution_count": 12,
   "metadata": {},
   "outputs": [
    {
     "data": {
      "text/plain": [
       "<matplotlib.axes._subplots.AxesSubplot at 0x7f2f4b660eb8>"
      ]
     },
     "execution_count": 12,
     "metadata": {},
     "output_type": "execute_result"
    },
    {
     "data": {
      "image/png": "[encoded data removed]",
      "text/plain": [
       "<Figure size 432x288 with 1 Axes>"
      ]
     },
     "metadata": {
      "needs_background": "light"
     },
     "output_type": "display_data"
    }
   ],
   "source": [
    "car_df[car_df.Title == \"USED\"].Year.plot.hist()"
   ]
  },
  {
   "cell_type": "markdown",
   "metadata": {},
   "source": [
    "More makes sense now, the range that we have in our data for used cars are more from 2010 to 2020.\n"
   ]
  },
  {
   "cell_type": "markdown",
   "metadata": {},
   "source": [
    "How about, we just take a look at and compare all cars model with a plot bar :\n"
   ]
  },
  {
   "cell_type": "code",
   "execution_count": 14,
   "metadata": {},
   "outputs": [
    {
     "data": {
      "text/plain": [
       "<matplotlib.axes._subplots.AxesSubplot at 0x7f3c699f7fd0>"
      ]
     },
     "execution_count": 14,
     "metadata": {},
     "output_type": "execute_result"
    },
    {
     "data": {
      "image/png": "[encoded data removed]",
      "text/plain": [
       "<Figure size 432x288 with 1 Axes>"
      ]
     },
     "metadata": {
      "needs_background": "light"
     },
     "output_type": "display_data"
    }
   ],
   "source": [
    "car_df[\"Title\"].value_counts().plot.bar()"
   ]
  },
  {
   "cell_type": "markdown",
   "metadata": {},
   "source": [
    "After checking our categories vs prices we can look at scatter of price vs year to find outliers : "
   ]
  },
  {
   "cell_type": "code",
   "execution_count": 15,
   "metadata": {},
   "outputs": [
    {
     "data": {
      "image/png": "[encoded data removed]",
      "text/plain": [
       "<Figure size 432x288 with 1 Axes>"
      ]
     },
     "metadata": {
      "needs_background": "light"
     },
     "output_type": "display_data"
    }
   ],
   "source": [
    "fig=plt.figure()\n",
    "plt.scatter(car_df.Price, car_df.Year)\n",
    "axis = fig.gca() #get current axis\n",
    "axis.set_title('Price vs Year')\n",
    "axis.set_xlabel('Price')\n",
    "axis.set_ylabel('Year')\n",
    "fig.canvas.draw()"
   ]
  },
  {
   "cell_type": "markdown",
   "metadata": {},
   "source": [
    "Now lets have some boxplot to understand and visialization more on these two categories :"
   ]
  },
  {
   "cell_type": "code",
   "execution_count": 16,
   "metadata": {},
   "outputs": [
    {
     "data": {
      "text/plain": [
       "<matplotlib.axes._subplots.AxesSubplot at 0x7f3c6704b2b0>"
      ]
     },
     "execution_count": 16,
     "metadata": {},
     "output_type": "execute_result"
    },
    {
     "data": {
      "image/png": "[encoded data removed]",
      "text/plain": [
       "<Figure size 432x288 with 1 Axes>"
      ]
     },
     "metadata": {
      "needs_background": "light"
     },
     "output_type": "display_data"
    }
   ],
   "source": [
    "import seaborn as sns\n",
    "sns.boxplot(x=car_df[\"Price\"])"
   ]
  },
  {
   "cell_type": "code",
   "execution_count": 17,
   "metadata": {},
   "outputs": [
    {
     "name": "stdout",
     "output_type": "stream",
     "text": [
      "Year                         1988\n",
      "Brand                 Lamborghini\n",
      "Model          Countach LP5000 QV\n",
      "Title                        USED\n",
      "Mile                         9960\n",
      "Price                      375000\n",
      "Transmition                Manual\n",
      "EXT_COLOR                   Black\n",
      "INT_COLOR                   Black\n",
      "Derivtrain                    RWD\n",
      "zipcode                     89107\n",
      "Name: 26509, dtype: object\n"
     ]
    }
   ],
   "source": [
    "pd.options.display.max_rows = 16\n",
    "print(car_df.loc[car_df['Price'].idxmax()])"
   ]
  },
  {
   "cell_type": "code",
   "execution_count": 18,
   "metadata": {},
   "outputs": [
    {
     "data": {
      "text/plain": [
       "<matplotlib.axes._subplots.AxesSubplot at 0x7f3c66faa5f8>"
      ]
     },
     "execution_count": 18,
     "metadata": {},
     "output_type": "execute_result"
    },
    {
     "data": {
      "image/png": "[encoded data removed]",
      "text/plain": [
       "<Figure size 432x288 with 1 Axes>"
      ]
     },
     "metadata": {
      "needs_background": "light"
     },
     "output_type": "display_data"
    }
   ],
   "source": [
    "sns.boxplot(x=car_df[\"Year\"])"
   ]
  },
  {
   "cell_type": "code",
   "execution_count": 19,
   "metadata": {},
   "outputs": [
    {
     "name": "stdout",
     "output_type": "stream",
     "text": [
      "Year                          1955\n",
      "Brand                         Ford\n",
      "Model          Thunderbird Premium\n",
      "Title                         USED\n",
      "Mile                         78000\n",
      "Price                        39995\n",
      "Transmition              Automatic\n",
      "EXT_COLOR                    Black\n",
      "INT_COLOR                      Red\n",
      "Derivtrain                     RWD\n",
      "zipcode                      11101\n",
      "Name: 14025, dtype: object\n"
     ]
    }
   ],
   "source": [
    "pd.options.display.max_rows = 16\n",
    "print(car_df.loc[car_df['Year'].idxmin()])"
   ]
  },
  {
   "cell_type": "markdown",
   "metadata": {},
   "source": [
    "I found the car which is too old, and outline of our data, we don't need this since the quantity of this car is low, and does not affect our prediction in the future, or in a better way, helps our prediction.\n"
   ]
  },
  {
   "cell_type": "code",
   "execution_count": 20,
   "metadata": {},
   "outputs": [],
   "source": [
    "car_df = car_df[car_df.Year > 1955]"
   ]
  },
  {
   "cell_type": "markdown",
   "metadata": {},
   "source": [
    "as you can see we can drop this car, or in a better way any car older than that!"
   ]
  },
  {
   "cell_type": "code",
   "execution_count": 21,
   "metadata": {},
   "outputs": [
    {
     "data": {
      "image/png": "[encoded data removed]",
      "text/plain": [
       "<Figure size 432x288 with 1 Axes>"
      ]
     },
     "metadata": {
      "needs_background": "light"
     },
     "output_type": "display_data"
    }
   ],
   "source": [
    "fig=plt.figure()\n",
    "plt.scatter(car_df.Price, car_df.Year)\n",
    "axis = fig.gca() #get current axis\n",
    "axis.set_title('Price vs Year')\n",
    "axis.set_xlabel('Price')\n",
    "axis.set_ylabel('Year')\n",
    "fig.canvas.draw()"
   ]
  },
  {
   "cell_type": "markdown",
   "metadata": {},
   "source": [
    "Here we can see our outliers in the scater plot, and we can go ahead and remove them from our data :"
   ]
  },
  {
   "cell_type": "code",
   "execution_count": 26,
   "metadata": {},
   "outputs": [],
   "source": [
    "car_df = car_df[car_df.Price < 280000]"
   ]
  },
  {
   "cell_type": "code",
   "execution_count": 27,
   "metadata": {},
   "outputs": [
    {
     "data": {
      "image/png": "[encoded data removed]",
      "text/plain": [
       "<Figure size 432x288 with 1 Axes>"
      ]
     },
     "metadata": {
      "needs_background": "light"
     },
     "output_type": "display_data"
    }
   ],
   "source": [
    "fig=plt.figure()\n",
    "plt.scatter(car_df.Price, car_df.Year)\n",
    "axis = fig.gca() #get current axis\n",
    "axis.set_title('Price vs Year')\n",
    "axis.set_xlabel('Price')\n",
    "axis.set_ylabel('Year')\n",
    "fig.canvas.draw()"
   ]
  },
  {
   "cell_type": "markdown",
   "metadata": {},
   "source": [
    "Here we are, now we have better data, we more accuracy. \n"
   ]
  },
  {
   "cell_type": "code",
   "execution_count": 29,
   "metadata": {},
   "outputs": [
    {
     "data": {
      "text/plain": [
       "Chevrolet      14592\n",
       "Nissan          3126\n",
       "Ford            1506\n",
       "Hyundai          821\n",
       "Dodge            686\n",
       "               ...  \n",
       "MG                 8\n",
       "Oldsmobile         8\n",
       "Plymouth           8\n",
       "Geo                6\n",
       "Rolls-Royce        5\n",
       "Name: Brand, Length: 53, dtype: int64"
      ]
     },
     "execution_count": 29,
     "metadata": {},
     "output_type": "execute_result"
    }
   ],
   "source": [
    "car_df['Brand'].value_counts()"
   ]
  },
  {
   "cell_type": "code",
   "execution_count": 30,
   "metadata": {},
   "outputs": [
    {
     "data": {
      "text/html": [
       "<div>\n",
       "<style scoped>\n",
       "    .dataframe tbody tr th:only-of-type {\n",
       "        vertical-align: middle;\n",
       "    }\n",
       "\n",
       "    .dataframe tbody tr th {\n",
       "        vertical-align: top;\n",
       "    }\n",
       "\n",
       "    .dataframe thead th {\n",
       "        text-align: right;\n",
       "    }\n",
       "</style>\n",
       "<table border=\"1\" class=\"dataframe\">\n",
       "  <thead>\n",
       "    <tr style=\"text-align: right;\">\n",
       "      <th></th>\n",
       "      <th>Year</th>\n",
       "      <th>Brand</th>\n",
       "      <th>Model</th>\n",
       "      <th>Title</th>\n",
       "      <th>Mile</th>\n",
       "      <th>Price</th>\n",
       "      <th>Transmition</th>\n",
       "      <th>EXT_COLOR</th>\n",
       "      <th>INT_COLOR</th>\n",
       "      <th>Derivtrain</th>\n",
       "      <th>zipcode</th>\n",
       "    </tr>\n",
       "  </thead>\n",
       "  <tbody>\n",
       "    <tr>\n",
       "      <th>20531</th>\n",
       "      <td>2017</td>\n",
       "      <td>Acura</td>\n",
       "      <td>ILX Base</td>\n",
       "      <td>USED</td>\n",
       "      <td>37874</td>\n",
       "      <td>14495.0</td>\n",
       "      <td>Automatic</td>\n",
       "      <td>White</td>\n",
       "      <td>Black</td>\n",
       "      <td>FWD</td>\n",
       "      <td>66203</td>\n",
       "    </tr>\n",
       "    <tr>\n",
       "      <th>25553</th>\n",
       "      <td>2017</td>\n",
       "      <td>Acura</td>\n",
       "      <td>ILX Base</td>\n",
       "      <td>USED</td>\n",
       "      <td>37874</td>\n",
       "      <td>14495.0</td>\n",
       "      <td>Automatic</td>\n",
       "      <td>White</td>\n",
       "      <td>Black</td>\n",
       "      <td>FWD</td>\n",
       "      <td>89107</td>\n",
       "    </tr>\n",
       "    <tr>\n",
       "      <th>26508</th>\n",
       "      <td>2015</td>\n",
       "      <td>Acura</td>\n",
       "      <td>TLX V6 Advance</td>\n",
       "      <td>USED</td>\n",
       "      <td>29317</td>\n",
       "      <td>14969.0</td>\n",
       "      <td>Automatic</td>\n",
       "      <td>White</td>\n",
       "      <td>Gray</td>\n",
       "      <td>FWD</td>\n",
       "      <td>89107</td>\n",
       "    </tr>\n",
       "    <tr>\n",
       "      <th>5267</th>\n",
       "      <td>2016</td>\n",
       "      <td>Acura</td>\n",
       "      <td>ILX Technology Plus Package</td>\n",
       "      <td>USED</td>\n",
       "      <td>22732</td>\n",
       "      <td>13999.0</td>\n",
       "      <td>Automatic</td>\n",
       "      <td>White</td>\n",
       "      <td>Black</td>\n",
       "      <td>FWD</td>\n",
       "      <td>99115</td>\n",
       "    </tr>\n",
       "    <tr>\n",
       "      <th>20211</th>\n",
       "      <td>2019</td>\n",
       "      <td>Acura</td>\n",
       "      <td>MDX Sport Hybrid 3.0L w/Advance Package</td>\n",
       "      <td>USED</td>\n",
       "      <td>0</td>\n",
       "      <td>40945.0</td>\n",
       "      <td>Automatic</td>\n",
       "      <td>Black</td>\n",
       "      <td>Black</td>\n",
       "      <td>AWD</td>\n",
       "      <td>66203</td>\n",
       "    </tr>\n",
       "  </tbody>\n",
       "</table>\n",
       "</div>"
      ],
      "text/plain": [
       "       Year  Brand                                    Model Title   Mile  \\\n",
       "20531  2017  Acura                                 ILX Base  USED  37874   \n",
       "25553  2017  Acura                                 ILX Base  USED  37874   \n",
       "26508  2015  Acura                           TLX V6 Advance  USED  29317   \n",
       "5267   2016  Acura              ILX Technology Plus Package  USED  22732   \n",
       "20211  2019  Acura  MDX Sport Hybrid 3.0L w/Advance Package  USED      0   \n",
       "\n",
       "         Price Transmition EXT_COLOR INT_COLOR Derivtrain  zipcode  \n",
       "20531  14495.0   Automatic     White     Black        FWD    66203  \n",
       "25553  14495.0   Automatic     White     Black        FWD    89107  \n",
       "26508  14969.0   Automatic     White      Gray        FWD    89107  \n",
       "5267   13999.0   Automatic     White     Black        FWD    99115  \n",
       "20211  40945.0   Automatic     Black     Black        AWD    66203  "
      ]
     },
     "execution_count": 30,
     "metadata": {},
     "output_type": "execute_result"
    }
   ],
   "source": [
    "car_df.head()"
   ]
  },
  {
   "cell_type": "code",
   "execution_count": 32,
   "metadata": {},
   "outputs": [
    {
     "data": {
      "text/html": [
       "<div>\n",
       "<style scoped>\n",
       "    .dataframe tbody tr th:only-of-type {\n",
       "        vertical-align: middle;\n",
       "    }\n",
       "\n",
       "    .dataframe tbody tr th {\n",
       "        vertical-align: top;\n",
       "    }\n",
       "\n",
       "    .dataframe thead th {\n",
       "        text-align: right;\n",
       "    }\n",
       "</style>\n",
       "<table border=\"1\" class=\"dataframe\">\n",
       "  <thead>\n",
       "    <tr style=\"text-align: right;\">\n",
       "      <th></th>\n",
       "      <th>Year</th>\n",
       "      <th>Mile</th>\n",
       "      <th>Price</th>\n",
       "      <th>Brand</th>\n",
       "    </tr>\n",
       "  </thead>\n",
       "  <tbody>\n",
       "    <tr>\n",
       "      <th>20531</th>\n",
       "      <td>2017</td>\n",
       "      <td>37874</td>\n",
       "      <td>14495.0</td>\n",
       "      <td>Acura</td>\n",
       "    </tr>\n",
       "    <tr>\n",
       "      <th>25553</th>\n",
       "      <td>2017</td>\n",
       "      <td>37874</td>\n",
       "      <td>14495.0</td>\n",
       "      <td>Acura</td>\n",
       "    </tr>\n",
       "    <tr>\n",
       "      <th>26508</th>\n",
       "      <td>2015</td>\n",
       "      <td>29317</td>\n",
       "      <td>14969.0</td>\n",
       "      <td>Acura</td>\n",
       "    </tr>\n",
       "    <tr>\n",
       "      <th>5267</th>\n",
       "      <td>2016</td>\n",
       "      <td>22732</td>\n",
       "      <td>13999.0</td>\n",
       "      <td>Acura</td>\n",
       "    </tr>\n",
       "    <tr>\n",
       "      <th>20211</th>\n",
       "      <td>2019</td>\n",
       "      <td>0</td>\n",
       "      <td>40945.0</td>\n",
       "      <td>Acura</td>\n",
       "    </tr>\n",
       "    <tr>\n",
       "      <th>...</th>\n",
       "      <td>...</td>\n",
       "      <td>...</td>\n",
       "      <td>...</td>\n",
       "      <td>...</td>\n",
       "    </tr>\n",
       "    <tr>\n",
       "      <th>16793</th>\n",
       "      <td>2012</td>\n",
       "      <td>45872</td>\n",
       "      <td>7998.0</td>\n",
       "      <td>smart</td>\n",
       "    </tr>\n",
       "    <tr>\n",
       "      <th>12365</th>\n",
       "      <td>2013</td>\n",
       "      <td>32272</td>\n",
       "      <td>5980.0</td>\n",
       "      <td>smart</td>\n",
       "    </tr>\n",
       "    <tr>\n",
       "      <th>6707</th>\n",
       "      <td>2012</td>\n",
       "      <td>45872</td>\n",
       "      <td>7998.0</td>\n",
       "      <td>smart</td>\n",
       "    </tr>\n",
       "    <tr>\n",
       "      <th>23491</th>\n",
       "      <td>2012</td>\n",
       "      <td>45672</td>\n",
       "      <td>6980.0</td>\n",
       "      <td>smart</td>\n",
       "    </tr>\n",
       "    <tr>\n",
       "      <th>15087</th>\n",
       "      <td>2017</td>\n",
       "      <td>14565</td>\n",
       "      <td>7997.0</td>\n",
       "      <td>smart</td>\n",
       "    </tr>\n",
       "  </tbody>\n",
       "</table>\n",
       "<p>29048 rows × 4 columns</p>\n",
       "</div>"
      ],
      "text/plain": [
       "       Year   Mile    Price  Brand\n",
       "20531  2017  37874  14495.0  Acura\n",
       "25553  2017  37874  14495.0  Acura\n",
       "26508  2015  29317  14969.0  Acura\n",
       "5267   2016  22732  13999.0  Acura\n",
       "20211  2019      0  40945.0  Acura\n",
       "...     ...    ...      ...    ...\n",
       "16793  2012  45872   7998.0  smart\n",
       "12365  2013  32272   5980.0  smart\n",
       "6707   2012  45872   7998.0  smart\n",
       "23491  2012  45672   6980.0  smart\n",
       "15087  2017  14565   7997.0  smart\n",
       "\n",
       "[29048 rows x 4 columns]"
      ]
     },
     "execution_count": 32,
     "metadata": {},
     "output_type": "execute_result"
    }
   ],
   "source": [
    "new_car_df = car_df[['Year', 'Mile', 'Price' ,'Brand']].copy()\n",
    "new_car_df"
   ]
  },
  {
   "cell_type": "code",
   "execution_count": 33,
   "metadata": {},
   "outputs": [
    {
     "data": {
      "text/plain": [
       "Chevrolet      14592\n",
       "Nissan          3126\n",
       "Ford            1506\n",
       "Hyundai          821\n",
       "Dodge            686\n",
       "               ...  \n",
       "MG                 8\n",
       "Oldsmobile         8\n",
       "Plymouth           8\n",
       "Geo                6\n",
       "Rolls-Royce        5\n",
       "Name: Brand, Length: 53, dtype: int64"
      ]
     },
     "execution_count": 33,
     "metadata": {},
     "output_type": "execute_result"
    }
   ],
   "source": [
    "brand_df = new_car_df['Brand'].value_counts()\n",
    "year_df = new_car_df['Year'].value_counts()\n",
    "mile_df = new_car_df['Mile'].value_counts()\n",
    "brand_df"
   ]
  },
  {
   "cell_type": "markdown",
   "metadata": {},
   "source": [
    "How about just compare all brand and see which brand have more, this would show us the brand popularity as well. \n"
   ]
  },
  {
   "cell_type": "code",
   "execution_count": 34,
   "metadata": {},
   "outputs": [
    {
     "data": {
      "text/plain": [
       "<matplotlib.axes._subplots.AxesSubplot at 0x7f3c66db0630>"
      ]
     },
     "execution_count": 34,
     "metadata": {},
     "output_type": "execute_result"
    },
    {
     "data": {
      "image/png": "[encoded data removed]",
      "text/plain": [
       "<Figure size 1080x720 with 1 Axes>"
      ]
     },
     "metadata": {
      "needs_background": "light"
     },
     "output_type": "display_data"
    }
   ],
   "source": [
    "(new_car_df['Brand'].value_counts()/brand_df.sum()).plot.bar(figsize=(15,10))"
   ]
  },
  {
   "cell_type": "markdown",
   "metadata": {},
   "source": [
    "Chevrolet has a much larger amount compared to other brands, might happen, because Chevrolet has more different types of car or model, but we do have some other brands, like for that have the same amount of car model. Therefore, Chevrolet has more popularity in our dataset. \n"
   ]
  },
  {
   "cell_type": "code",
   "execution_count": 36,
   "metadata": {},
   "outputs": [
    {
     "data": {
      "text/html": [
       "<div>\n",
       "<style scoped>\n",
       "    .dataframe tbody tr th:only-of-type {\n",
       "        vertical-align: middle;\n",
       "    }\n",
       "\n",
       "    .dataframe tbody tr th {\n",
       "        vertical-align: top;\n",
       "    }\n",
       "\n",
       "    .dataframe thead th {\n",
       "        text-align: right;\n",
       "    }\n",
       "</style>\n",
       "<table border=\"1\" class=\"dataframe\">\n",
       "  <thead>\n",
       "    <tr style=\"text-align: right;\">\n",
       "      <th></th>\n",
       "      <th>Year</th>\n",
       "      <th>Mile</th>\n",
       "      <th>Price</th>\n",
       "      <th>Brand</th>\n",
       "    </tr>\n",
       "  </thead>\n",
       "  <tbody>\n",
       "    <tr>\n",
       "      <th>25568</th>\n",
       "      <td>2020</td>\n",
       "      <td>0</td>\n",
       "      <td>12979.0</td>\n",
       "      <td>Chevrolet</td>\n",
       "    </tr>\n",
       "    <tr>\n",
       "      <th>14650</th>\n",
       "      <td>2020</td>\n",
       "      <td>0</td>\n",
       "      <td>21325.0</td>\n",
       "      <td>Chevrolet</td>\n",
       "    </tr>\n",
       "    <tr>\n",
       "      <th>14651</th>\n",
       "      <td>2020</td>\n",
       "      <td>0</td>\n",
       "      <td>20847.0</td>\n",
       "      <td>Chevrolet</td>\n",
       "    </tr>\n",
       "    <tr>\n",
       "      <th>11130</th>\n",
       "      <td>2020</td>\n",
       "      <td>0</td>\n",
       "      <td>16277.0</td>\n",
       "      <td>Chevrolet</td>\n",
       "    </tr>\n",
       "    <tr>\n",
       "      <th>11128</th>\n",
       "      <td>2020</td>\n",
       "      <td>0</td>\n",
       "      <td>16664.0</td>\n",
       "      <td>Chevrolet</td>\n",
       "    </tr>\n",
       "    <tr>\n",
       "      <th>...</th>\n",
       "      <td>...</td>\n",
       "      <td>...</td>\n",
       "      <td>...</td>\n",
       "      <td>...</td>\n",
       "    </tr>\n",
       "    <tr>\n",
       "      <th>750</th>\n",
       "      <td>2020</td>\n",
       "      <td>0</td>\n",
       "      <td>18318.0</td>\n",
       "      <td>Chevrolet</td>\n",
       "    </tr>\n",
       "    <tr>\n",
       "      <th>7941</th>\n",
       "      <td>2020</td>\n",
       "      <td>0</td>\n",
       "      <td>13998.0</td>\n",
       "      <td>Chevrolet</td>\n",
       "    </tr>\n",
       "    <tr>\n",
       "      <th>7901</th>\n",
       "      <td>2017</td>\n",
       "      <td>31074</td>\n",
       "      <td>22299.0</td>\n",
       "      <td>Chevrolet</td>\n",
       "    </tr>\n",
       "    <tr>\n",
       "      <th>7954</th>\n",
       "      <td>2020</td>\n",
       "      <td>0</td>\n",
       "      <td>18180.0</td>\n",
       "      <td>Chevrolet</td>\n",
       "    </tr>\n",
       "    <tr>\n",
       "      <th>7214</th>\n",
       "      <td>2014</td>\n",
       "      <td>66947</td>\n",
       "      <td>7495.0</td>\n",
       "      <td>Chevrolet</td>\n",
       "    </tr>\n",
       "  </tbody>\n",
       "</table>\n",
       "<p>14592 rows × 4 columns</p>\n",
       "</div>"
      ],
      "text/plain": [
       "       Year   Mile    Price      Brand\n",
       "25568  2020      0  12979.0  Chevrolet\n",
       "14650  2020      0  21325.0  Chevrolet\n",
       "14651  2020      0  20847.0  Chevrolet\n",
       "11130  2020      0  16277.0  Chevrolet\n",
       "11128  2020      0  16664.0  Chevrolet\n",
       "...     ...    ...      ...        ...\n",
       "750    2020      0  18318.0  Chevrolet\n",
       "7941   2020      0  13998.0  Chevrolet\n",
       "7901   2017  31074  22299.0  Chevrolet\n",
       "7954   2020      0  18180.0  Chevrolet\n",
       "7214   2014  66947   7495.0  Chevrolet\n",
       "\n",
       "[14592 rows x 4 columns]"
      ]
     },
     "execution_count": 36,
     "metadata": {},
     "output_type": "execute_result"
    }
   ],
   "source": [
    "df = new_car_df.groupby(['Brand']).get_group('Chevrolet')\n",
    "df"
   ]
  },
  {
   "cell_type": "code",
   "execution_count": 37,
   "metadata": {},
   "outputs": [
    {
     "data": {
      "text/plain": [
       "Chevrolet    14592\n",
       "Nissan        3126\n",
       "Ford          1506\n",
       "Hyundai        821\n",
       "Dodge          686\n",
       "Cadillac       652\n",
       "Chrysler       506\n",
       "Toyota         467\n",
       "Honda          462\n",
       "Kia            430\n",
       "Buick          420\n",
       "Name: Brand, dtype: int64"
      ]
     },
     "execution_count": 37,
     "metadata": {},
     "output_type": "execute_result"
    }
   ],
   "source": [
    "grp = new_car_df.groupby('Brand') \n",
    "df_n = grp.filter(lambda x: len(x) >= 400)\n",
    "df_n['Brand'].value_counts()"
   ]
  },
  {
   "cell_type": "markdown",
   "metadata": {},
   "source": [
    "Now let’s look at the Transmission type and see if we need to do some data cleaning here. \n"
   ]
  },
  {
   "cell_type": "code",
   "execution_count": 38,
   "metadata": {},
   "outputs": [
    {
     "data": {
      "text/plain": [
       "Automatic          19835\n",
       "CVT                 7840\n",
       "Manual              1229\n",
       "Other / Unknown       86\n",
       "Automanual            58\n",
       "Name: Transmition, dtype: int64"
      ]
     },
     "execution_count": 38,
     "metadata": {},
     "output_type": "execute_result"
    }
   ],
   "source": [
    "car_df['Transmition'].value_counts()"
   ]
  },
  {
   "cell_type": "markdown",
   "metadata": {},
   "source": [
    "The Other / Unknown, and Automanual have much fewer cars than others in our dataset, we can drop these two from our data.\n"
   ]
  },
  {
   "cell_type": "code",
   "execution_count": 39,
   "metadata": {},
   "outputs": [],
   "source": [
    "cols = ['Transmition']\n",
    "\n",
    "for column in cols:\n",
    "    car_df.loc[car_df[column] == 'Automanual', column] = np.nan\n",
    "    car_df.dropna(axis = 0, inplace = True)"
   ]
  },
  {
   "cell_type": "code",
   "execution_count": 40,
   "metadata": {},
   "outputs": [
    {
     "data": {
      "text/plain": [
       "Automatic          19827\n",
       "CVT                 7840\n",
       "Manual              1217\n",
       "Other / Unknown       86\n",
       "Name: Transmition, dtype: int64"
      ]
     },
     "execution_count": 40,
     "metadata": {},
     "output_type": "execute_result"
    }
   ],
   "source": [
    "car_df['Transmition'].value_counts()"
   ]
  },
  {
   "cell_type": "code",
   "execution_count": 41,
   "metadata": {},
   "outputs": [
    {
     "data": {
      "text/plain": [
       "Automatic    19827\n",
       "CVT           7840\n",
       "Manual        1217\n",
       "Name: Transmition, dtype: int64"
      ]
     },
     "execution_count": 41,
     "metadata": {},
     "output_type": "execute_result"
    }
   ],
   "source": [
    "cols = ['Transmition']\n",
    "\n",
    "for column in cols:\n",
    "    car_df.loc[car_df[column] == 'Other / Unknown', column] = np.nan\n",
    "    car_df.dropna(axis = 0, inplace = True)\n",
    "car_df['Transmition'].value_counts()"
   ]
  },
  {
   "cell_type": "code",
   "execution_count": 42,
   "metadata": {},
   "outputs": [
    {
     "data": {
      "text/plain": [
       "Automatic    19827\n",
       "CVT           7840\n",
       "Manual        1217\n",
       "Name: Transmition, dtype: int64"
      ]
     },
     "execution_count": 42,
     "metadata": {},
     "output_type": "execute_result"
    }
   ],
   "source": [
    "Trans = {'Automatic':'Automatic', 'CVT':'CVT', 'Manual':'Manual'}\n",
    "car_df['Transmition'] = [Trans[x] for x in car_df['Transmition']]\n",
    "car_df['Transmition'].value_counts()"
   ]
  },
  {
   "cell_type": "markdown",
   "metadata": {},
   "source": [
    "Here now we can have box plot to visualize these tree different Transmission.\n"
   ]
  },
  {
   "cell_type": "code",
   "execution_count": 43,
   "metadata": {},
   "outputs": [
    {
     "data": {
      "image/png": "[encoded data removed]",
      "text/plain": [
       "<Figure size 720x1080 with 1 Axes>"
      ]
     },
     "metadata": {
      "needs_background": "light"
     },
     "output_type": "display_data"
    }
   ],
   "source": [
    "fig, ax = plt.subplots(figsize=(10,15))  \n",
    "def plot_box(car_df, col, col_y = 'Price'):\n",
    "    sns.set_style(\"whitegrid\")\n",
    "    sns.boxplot(col, col_y, data=car_df)\n",
    "    plt.xlabel(col) # Set text for the x axis\n",
    "    plt.ylabel(col_y)# Set text for y axis\n",
    "    plt.show()\n",
    "    \n",
    "plot_box(car_df, 'Transmition')   "
   ]
  },
  {
   "cell_type": "markdown",
   "metadata": {},
   "source": [
    "we have more cars with Automatic Transmission and also Automatic Transmission appears in the bigger price range compare to Manual and CVT. \n"
   ]
  },
  {
   "cell_type": "markdown",
   "metadata": {},
   "source": [
    "We also can take look at the price, which is the first and last, most important part, when we want to buy a car. \n"
   ]
  },
  {
   "cell_type": "code",
   "execution_count": 44,
   "metadata": {},
   "outputs": [
    {
     "data": {
      "image/png": "[encoded data removed]",
      "text/plain": [
       "<Figure size 720x720 with 1 Axes>"
      ]
     },
     "metadata": {},
     "output_type": "display_data"
    }
   ],
   "source": [
    "fig, ax = plt.subplots(figsize=(10,10))  \n",
    "def hist_plot(vals, lab):\n",
    "    ## Distribution plot of values\n",
    "    sns.distplot(vals)\n",
    "    plt.title('Histogram of ' + lab)\n",
    "    plt.xlabel('Value')\n",
    "    plt.ylabel('Density')\n",
    "    \n",
    "#labels = np.array(auto_prices['price'])\n",
    "hist_plot(car_df['Price'], 'prices')"
   ]
  },
  {
   "cell_type": "code",
   "execution_count": 45,
   "metadata": {},
   "outputs": [
    {
     "data": {
      "image/png": "[encoded data removed]",
      "text/plain": [
       "<Figure size 432x288 with 1 Axes>"
      ]
     },
     "metadata": {},
     "output_type": "display_data"
    }
   ],
   "source": [
    "car_df['log_price'] = np.log(car_df['Price'])\n",
    "hist_plot(car_df['log_price'], 'log prices')"
   ]
  },
  {
   "cell_type": "markdown",
   "metadata": {},
   "source": [
    "Derivtrain, explain the type of car, \n",
    "- FWD -> Front-wheel drive : most of the sedan cars are this type. also some of SUVs \n",
    "- AWD -> All-wheel drive : most of the SUV's and sport cars.\n",
    "- RWD -> Rear-wheel drive : Most of the sports cars, and muscle cars.\n",
    "- 4x4/4-wheel drive : for SUV, and Trucks."
   ]
  },
  {
   "cell_type": "code",
   "execution_count": 47,
   "metadata": {},
   "outputs": [
    {
     "data": {
      "text/plain": [
       "FWD                  20938\n",
       "AWD                   3859\n",
       "RWD                   2778\n",
       "4x4/4-wheel drive     1211\n",
       "Unknown                 72\n",
       "4x2/2-wheel drive       26\n",
       "Name: Derivtrain, dtype: int64"
      ]
     },
     "execution_count": 47,
     "metadata": {},
     "output_type": "execute_result"
    }
   ],
   "source": [
    "car_df['Derivtrain'].value_counts()"
   ]
  },
  {
   "cell_type": "markdown",
   "metadata": {},
   "source": [
    "Here we need to drop, Unknown type cars, and 4x2/2-wheel drive because they are too low numbers compare to others in our dataset.\n"
   ]
  },
  {
   "cell_type": "code",
   "execution_count": 48,
   "metadata": {},
   "outputs": [
    {
     "data": {
      "text/plain": [
       "FWD                  20938\n",
       "AWD                   3859\n",
       "RWD                   2778\n",
       "4x4/4-wheel drive     1211\n",
       "4x2/2-wheel drive       26\n",
       "Name: Derivtrain, dtype: int64"
      ]
     },
     "execution_count": 48,
     "metadata": {},
     "output_type": "execute_result"
    }
   ],
   "source": [
    "cols = ['Derivtrain']\n",
    "\n",
    "for column in cols:\n",
    "    car_df.loc[car_df[column] == 'Unknown', column] = np.nan\n",
    "    car_df.dropna(axis = 0, inplace = True)\n",
    "car_df['Derivtrain'].value_counts()"
   ]
  },
  {
   "cell_type": "code",
   "execution_count": 49,
   "metadata": {},
   "outputs": [
    {
     "data": {
      "text/plain": [
       "FWD                  20938\n",
       "AWD                   3859\n",
       "RWD                   2778\n",
       "4x4/4-wheel drive     1211\n",
       "Name: Derivtrain, dtype: int64"
      ]
     },
     "execution_count": 49,
     "metadata": {},
     "output_type": "execute_result"
    }
   ],
   "source": [
    "cols = ['Derivtrain']\n",
    "\n",
    "for column in cols:\n",
    "    car_df.loc[car_df[column] == '4x2/2-wheel drive', column] = np.nan\n",
    "    car_df.dropna(axis = 0, inplace = True)\n",
    "car_df['Derivtrain'].value_counts()"
   ]
  },
  {
   "cell_type": "markdown",
   "metadata": {},
   "source": [
    "Now lets look how does this transformation change the relationship between the label (price) and some of the features : "
   ]
  },
  {
   "cell_type": "code",
   "execution_count": 50,
   "metadata": {},
   "outputs": [
    {
     "data": {
      "image/png": "[encoded data removed]",
      "text/plain": [
       "<Figure size 720x720 with 1 Axes>"
      ]
     },
     "metadata": {},
     "output_type": "display_data"
    }
   ],
   "source": [
    "fig, ax = plt.subplots(figsize=(10,10))  \n",
    "def plot_scatter_shape(car_df, cols, shape_col = 'Derivtrain', col_y = 'log_price', alpha = 0.2):\n",
    "    shapes = ['+', 'o', 's', 'x', '^'] # pick distinctive shapes\n",
    "    unique_cats = car_df[shape_col].unique()\n",
    "    for col in cols: # loop over the columns to plot\n",
    "        sns.set_style(\"whitegrid\")\n",
    "        for i, cat in enumerate(unique_cats): # loop over the unique categories\n",
    "            temp = car_df[car_df[shape_col] == cat]\n",
    "            sns.regplot(col, col_y, data=temp, marker = shapes[i], label = cat,\n",
    "                        scatter_kws={\"alpha\":alpha}, fit_reg = False, color = 'blue')\n",
    "        plt.title('Scatter plot of ' + col_y + ' vs. ' + col) # Give the plot a main title\n",
    "        plt.xlabel(col) # Set text for the x axis\n",
    "        plt.ylabel(col_y)# Set text for y axis\n",
    "        plt.legend()\n",
    "        plt.show()\n",
    "            \n",
    "num_cols = ['zipcode']\n",
    "plot_scatter_shape(car_df, num_cols)   "
   ]
  },
  {
   "cell_type": "markdown",
   "metadata": {},
   "source": [
    "It's a pretty interesting result! they are straight in the scatter plot of log price, vs the zip codes that would show us the frequency that type of cars appears in the specific zip code!\n",
    "I think it's time to save our data into a new CVS file for the next phase which is phase3. \n",
    "\n"
   ]
  },
  {
   "cell_type": "code",
   "execution_count": null,
   "metadata": {},
   "outputs": [],
   "source": []
  }
 ],
 "metadata": {
  "kernelspec": {
   "display_name": "Python 3",
   "language": "python",
   "name": "python3"
  },
  "language_info": {
   "codemirror_mode": {
    "name": "ipython",
    "version": 3
   },
   "file_extension": ".py",
   "mimetype": "text/x-python",
   "name": "python",
   "nbconvert_exporter": "python",
   "pygments_lexer": "ipython3",
   "version": "3.6.8"
  }
 },
 "nbformat": 4,
 "nbformat_minor": 4
}
