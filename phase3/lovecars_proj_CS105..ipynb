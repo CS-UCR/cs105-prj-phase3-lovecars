{
 "cells": [
  {
   "cell_type": "code",
   "execution_count": null,
   "metadata": {},
   "outputs": [],
   "source": [
    "#Houhmand Esmaeilpourarabi\n",
    "#"
   ]
  },
  {
   "cell_type": "code",
   "execution_count": 1,
   "metadata": {},
   "outputs": [],
   "source": [
    "import pandas as pd\n",
    "import matplotlib.pyplot as plt\n",
    "import seaborn as sns\n",
    "import numpy as np\n",
    "import numpy.random as nr\n",
    "import math\n",
    "\n",
    "%matplotlib inline"
   ]
  },
  {
   "cell_type": "markdown",
   "metadata": {},
   "source": [
    "## Getting Familiar with the Data\n"
   ]
  },
  {
   "cell_type": "code",
   "execution_count": 2,
   "metadata": {},
   "outputs": [
    {
     "data": {
      "text/html": [
       "<div>\n",
       "<style scoped>\n",
       "    .dataframe tbody tr th:only-of-type {\n",
       "        vertical-align: middle;\n",
       "    }\n",
       "\n",
       "    .dataframe tbody tr th {\n",
       "        vertical-align: top;\n",
       "    }\n",
       "\n",
       "    .dataframe thead th {\n",
       "        text-align: right;\n",
       "    }\n",
       "</style>\n",
       "<table border=\"1\" class=\"dataframe\">\n",
       "  <thead>\n",
       "    <tr style=\"text-align: right;\">\n",
       "      <th></th>\n",
       "      <th>Year</th>\n",
       "      <th>Brand</th>\n",
       "      <th>Model</th>\n",
       "      <th>Title</th>\n",
       "      <th>Mile</th>\n",
       "      <th>Price</th>\n",
       "      <th>Transmition</th>\n",
       "      <th>EXT_COLOR</th>\n",
       "      <th>INT_COLOR</th>\n",
       "      <th>Derivtrain</th>\n",
       "      <th>zipcode</th>\n",
       "      <th>log_price</th>\n",
       "    </tr>\n",
       "  </thead>\n",
       "  <tbody>\n",
       "    <tr>\n",
       "      <th>0</th>\n",
       "      <td>2017</td>\n",
       "      <td>Acura</td>\n",
       "      <td>ILX Base</td>\n",
       "      <td>USED</td>\n",
       "      <td>37874</td>\n",
       "      <td>14495.0</td>\n",
       "      <td>Automatic</td>\n",
       "      <td>White</td>\n",
       "      <td>Black</td>\n",
       "      <td>FWD</td>\n",
       "      <td>66203</td>\n",
       "      <td>9.581559</td>\n",
       "    </tr>\n",
       "    <tr>\n",
       "      <th>1</th>\n",
       "      <td>2017</td>\n",
       "      <td>Acura</td>\n",
       "      <td>ILX Base</td>\n",
       "      <td>USED</td>\n",
       "      <td>37874</td>\n",
       "      <td>14495.0</td>\n",
       "      <td>Automatic</td>\n",
       "      <td>White</td>\n",
       "      <td>Black</td>\n",
       "      <td>FWD</td>\n",
       "      <td>89107</td>\n",
       "      <td>9.581559</td>\n",
       "    </tr>\n",
       "    <tr>\n",
       "      <th>2</th>\n",
       "      <td>2015</td>\n",
       "      <td>Acura</td>\n",
       "      <td>TLX V6 Advance</td>\n",
       "      <td>USED</td>\n",
       "      <td>29317</td>\n",
       "      <td>14969.0</td>\n",
       "      <td>Automatic</td>\n",
       "      <td>White</td>\n",
       "      <td>Gray</td>\n",
       "      <td>FWD</td>\n",
       "      <td>89107</td>\n",
       "      <td>9.613737</td>\n",
       "    </tr>\n",
       "    <tr>\n",
       "      <th>3</th>\n",
       "      <td>2016</td>\n",
       "      <td>Acura</td>\n",
       "      <td>ILX Technology Plus Package</td>\n",
       "      <td>USED</td>\n",
       "      <td>22732</td>\n",
       "      <td>13999.0</td>\n",
       "      <td>Automatic</td>\n",
       "      <td>White</td>\n",
       "      <td>Black</td>\n",
       "      <td>FWD</td>\n",
       "      <td>99115</td>\n",
       "      <td>9.546741</td>\n",
       "    </tr>\n",
       "    <tr>\n",
       "      <th>4</th>\n",
       "      <td>2019</td>\n",
       "      <td>Acura</td>\n",
       "      <td>MDX Sport Hybrid 3.0L w/Advance Package</td>\n",
       "      <td>USED</td>\n",
       "      <td>0</td>\n",
       "      <td>40945.0</td>\n",
       "      <td>Automatic</td>\n",
       "      <td>Black</td>\n",
       "      <td>Black</td>\n",
       "      <td>AWD</td>\n",
       "      <td>66203</td>\n",
       "      <td>10.619985</td>\n",
       "    </tr>\n",
       "  </tbody>\n",
       "</table>\n",
       "</div>"
      ],
      "text/plain": [
       "   Year  Brand                                    Model Title   Mile    Price  \\\n",
       "0  2017  Acura                                 ILX Base  USED  37874  14495.0   \n",
       "1  2017  Acura                                 ILX Base  USED  37874  14495.0   \n",
       "2  2015  Acura                           TLX V6 Advance  USED  29317  14969.0   \n",
       "3  2016  Acura              ILX Technology Plus Package  USED  22732  13999.0   \n",
       "4  2019  Acura  MDX Sport Hybrid 3.0L w/Advance Package  USED      0  40945.0   \n",
       "\n",
       "  Transmition EXT_COLOR INT_COLOR Derivtrain  zipcode  log_price  \n",
       "0   Automatic     White     Black        FWD    66203   9.581559  \n",
       "1   Automatic     White     Black        FWD    89107   9.581559  \n",
       "2   Automatic     White      Gray        FWD    89107   9.613737  \n",
       "3   Automatic     White     Black        FWD    99115   9.546741  \n",
       "4   Automatic     Black     Black        AWD    66203  10.619985  "
      ]
     },
     "execution_count": 2,
     "metadata": {},
     "output_type": "execute_result"
    }
   ],
   "source": [
    "import pandas as pd\n",
    "data_dir = \"\"\n",
    "car_df_train = pd.read_csv(\"results1.csv\")\n",
    "car_df_train.head()"
   ]
  },
  {
   "cell_type": "markdown",
   "metadata": {},
   "source": [
    "## Some visualization of futures of the dataset"
   ]
  },
  {
   "cell_type": "code",
   "execution_count": 3,
   "metadata": {},
   "outputs": [
    {
     "data": {
      "image/png": "[encoded data removed]",
      "text/plain": [
       "<Figure size 432x288 with 1 Axes>"
      ]
     },
     "metadata": {
      "needs_background": "light"
     },
     "output_type": "display_data"
    }
   ],
   "source": [
    "fig=plt.figure()\n",
    "plt.scatter(car_df_train.Price, car_df_train.Year)\n",
    "axis = fig.gca() #get current axis\n",
    "axis.set_title('Price vs Year')\n",
    "axis.set_xlabel('Price')\n",
    "axis.set_ylabel('Year')\n",
    "fig.canvas.draw()"
   ]
  },
  {
   "cell_type": "code",
   "execution_count": 4,
   "metadata": {},
   "outputs": [
    {
     "data": {
      "text/plain": [
       "<matplotlib.axes._subplots.AxesSubplot at 0x7fca792e7320>"
      ]
     },
     "execution_count": 4,
     "metadata": {},
     "output_type": "execute_result"
    },
    {
     "data": {
      "image/png": "[encoded data removed]",
      "text/plain": [
       "<Figure size 432x288 with 1 Axes>"
      ]
     },
     "metadata": {
      "needs_background": "light"
     },
     "output_type": "display_data"
    }
   ],
   "source": [
    "car_df_train.plot.scatter(x=\"zipcode\", y=\"Price\")"
   ]
  },
  {
   "cell_type": "markdown",
   "metadata": {},
   "source": [
    "# Relationships between Derivtrain and zipcode"
   ]
  },
  {
   "cell_type": "code",
   "execution_count": 5,
   "metadata": {},
   "outputs": [
    {
     "data": {
      "text/html": [
       "<div>\n",
       "<style scoped>\n",
       "    .dataframe tbody tr th:only-of-type {\n",
       "        vertical-align: middle;\n",
       "    }\n",
       "\n",
       "    .dataframe tbody tr th {\n",
       "        vertical-align: top;\n",
       "    }\n",
       "\n",
       "    .dataframe thead th {\n",
       "        text-align: right;\n",
       "    }\n",
       "</style>\n",
       "<table border=\"1\" class=\"dataframe\">\n",
       "  <thead>\n",
       "    <tr style=\"text-align: right;\">\n",
       "      <th></th>\n",
       "      <th>zipcode</th>\n",
       "      <th>Derivtrain</th>\n",
       "      <th>count</th>\n",
       "    </tr>\n",
       "  </thead>\n",
       "  <tbody>\n",
       "    <tr>\n",
       "      <th>0</th>\n",
       "      <td>11101</td>\n",
       "      <td>4x4/4-wheel drive</td>\n",
       "      <td>200</td>\n",
       "    </tr>\n",
       "    <tr>\n",
       "      <th>1</th>\n",
       "      <td>11101</td>\n",
       "      <td>AWD</td>\n",
       "      <td>677</td>\n",
       "    </tr>\n",
       "  </tbody>\n",
       "</table>\n",
       "</div>"
      ],
      "text/plain": [
       "   zipcode         Derivtrain  count\n",
       "0    11101  4x4/4-wheel drive    200\n",
       "1    11101                AWD    677"
      ]
     },
     "execution_count": 5,
     "metadata": {},
     "output_type": "execute_result"
    }
   ],
   "source": [
    "Derivtrain_df_train = car_df_train.groupby(['zipcode','Derivtrain'])['Derivtrain'].agg(['count']).reset_index()\n",
    "Derivtrain_df_train.head(2)"
   ]
  },
  {
   "cell_type": "code",
   "execution_count": 6,
   "metadata": {},
   "outputs": [
    {
     "data": {
      "text/plain": [
       "<matplotlib.axes._subplots.AxesSubplot at 0x7fca78a87080>"
      ]
     },
     "execution_count": 6,
     "metadata": {},
     "output_type": "execute_result"
    },
    {
     "data": {
      "image/png": "[encoded data removed]",
      "text/plain": [
       "<Figure size 1080x720 with 1 Axes>"
      ]
     },
     "metadata": {
      "needs_background": "light"
     },
     "output_type": "display_data"
    }
   ],
   "source": [
    "Derivtrain_counts = Derivtrain_df_train.pivot_table(\n",
    "    index=\"Derivtrain\", columns=\"zipcode\",\n",
    "    values=\"count\"  \n",
    "    \n",
    ")\n",
    "Derivtrain_counts = Derivtrain_counts.fillna(0)\n",
    "Derivtrain_counts.T.plot.bar(figsize=(15,10))"
   ]
  },
  {
   "cell_type": "markdown",
   "metadata": {},
   "source": [
    "As we can see in the plot bar FWD cars are extremly more in each area(zip code), zipcode(89107) which is Nevada zip code, has less FWD car compare to others. Therefore FWD cars are much more popular in each zip code.  "
   ]
  },
  {
   "cell_type": "markdown",
   "metadata": {},
   "source": [
    "# Relationships between Zipcode and Body color"
   ]
  },
  {
   "cell_type": "code",
   "execution_count": 7,
   "metadata": {},
   "outputs": [
    {
     "data": {
      "text/html": [
       "<div>\n",
       "<style scoped>\n",
       "    .dataframe tbody tr th:only-of-type {\n",
       "        vertical-align: middle;\n",
       "    }\n",
       "\n",
       "    .dataframe tbody tr th {\n",
       "        vertical-align: top;\n",
       "    }\n",
       "\n",
       "    .dataframe thead th {\n",
       "        text-align: right;\n",
       "    }\n",
       "</style>\n",
       "<table border=\"1\" class=\"dataframe\">\n",
       "  <thead>\n",
       "    <tr style=\"text-align: right;\">\n",
       "      <th></th>\n",
       "      <th>zipcode</th>\n",
       "      <th>EXT_COLOR</th>\n",
       "      <th>count</th>\n",
       "    </tr>\n",
       "  </thead>\n",
       "  <tbody>\n",
       "    <tr>\n",
       "      <th>0</th>\n",
       "      <td>11101</td>\n",
       "      <td>Beige</td>\n",
       "      <td>84</td>\n",
       "    </tr>\n",
       "    <tr>\n",
       "      <th>1</th>\n",
       "      <td>11101</td>\n",
       "      <td>Black</td>\n",
       "      <td>1003</td>\n",
       "    </tr>\n",
       "    <tr>\n",
       "      <th>2</th>\n",
       "      <td>11101</td>\n",
       "      <td>Blue</td>\n",
       "      <td>392</td>\n",
       "    </tr>\n",
       "    <tr>\n",
       "      <th>3</th>\n",
       "      <td>11101</td>\n",
       "      <td>Brown</td>\n",
       "      <td>23</td>\n",
       "    </tr>\n",
       "    <tr>\n",
       "      <th>4</th>\n",
       "      <td>11101</td>\n",
       "      <td>Gold</td>\n",
       "      <td>18</td>\n",
       "    </tr>\n",
       "  </tbody>\n",
       "</table>\n",
       "</div>"
      ],
      "text/plain": [
       "   zipcode EXT_COLOR  count\n",
       "0    11101     Beige     84\n",
       "1    11101     Black   1003\n",
       "2    11101      Blue    392\n",
       "3    11101     Brown     23\n",
       "4    11101      Gold     18"
      ]
     },
     "execution_count": 7,
     "metadata": {},
     "output_type": "execute_result"
    }
   ],
   "source": [
    "EXT_COLOR_df_train = car_df_train.groupby(['zipcode','EXT_COLOR'])['EXT_COLOR'].agg(['count']).reset_index()\n",
    "EXT_COLOR_df_train.head()"
   ]
  },
  {
   "cell_type": "code",
   "execution_count": 8,
   "metadata": {},
   "outputs": [
    {
     "data": {
      "image/png": "[encoded data removed]",
      "text/plain": [
       "<Figure size 2160x720 with 1 Axes>"
      ]
     },
     "metadata": {
      "needs_background": "light"
     },
     "output_type": "display_data"
    }
   ],
   "source": [
    "import matplotlib.pyplot as plt\n",
    "\n",
    "EXT_COLOR_counts = EXT_COLOR_df_train.pivot_table(\n",
    "    index=\"EXT_COLOR\", columns=\"zipcode\",\n",
    "    values=\"count\"  \n",
    "    \n",
    ")\n",
    "color_dict = {'Beige': 'beige', 'Black': 'black', 'Blue': 'blue', 'Brown': 'brown',\n",
    "             'Gold': 'gold', 'Gray': 'gray', 'Green': 'green', 'Orange': 'orange',\n",
    "             'Pink': 'pink', 'Purple': 'purple', 'Red': 'red',\n",
    "             'Silver': 'silver', 'White': 'aqua', 'Yellow': 'yellow'}\n",
    "EXT_COLOR_counts = EXT_COLOR_counts.fillna(0)\n",
    "#EXT_COLOR_counts.T.plot.bar()\n",
    "#EXT_COLOR_counts.set_facecolor(\"lightslategray\")\n",
    "EXT_COLOR_counts.T.plot.bar(figsize=(30,10), color=[color_dict.get(x, '#333333') for x in EXT_COLOR_counts.T.columns])\n",
    "plt.show()"
   ]
  },
  {
   "cell_type": "markdown",
   "metadata": {},
   "source": [
    "The result is the same as our expectation respect to color, white, black, and gray colors are the most popular color in the market in each zipcode.  \n"
   ]
  },
  {
   "cell_type": "markdown",
   "metadata": {},
   "source": [
    "# Building our model for Data analysis\n"
   ]
  },
  {
   "cell_type": "code",
   "execution_count": 9,
   "metadata": {},
   "outputs": [
    {
     "data": {
      "text/html": [
       "<div>\n",
       "<style scoped>\n",
       "    .dataframe tbody tr th:only-of-type {\n",
       "        vertical-align: middle;\n",
       "    }\n",
       "\n",
       "    .dataframe tbody tr th {\n",
       "        vertical-align: top;\n",
       "    }\n",
       "\n",
       "    .dataframe thead th {\n",
       "        text-align: right;\n",
       "    }\n",
       "</style>\n",
       "<table border=\"1\" class=\"dataframe\">\n",
       "  <thead>\n",
       "    <tr style=\"text-align: right;\">\n",
       "      <th></th>\n",
       "      <th>Year</th>\n",
       "      <th>Mile</th>\n",
       "      <th>Price</th>\n",
       "      <th>zipcode</th>\n",
       "      <th>log_price</th>\n",
       "    </tr>\n",
       "  </thead>\n",
       "  <tbody>\n",
       "    <tr>\n",
       "      <th>count</th>\n",
       "      <td>28786.000000</td>\n",
       "      <td>28786.000000</td>\n",
       "      <td>28786.000000</td>\n",
       "      <td>28786.000000</td>\n",
       "      <td>28786.000000</td>\n",
       "    </tr>\n",
       "    <tr>\n",
       "      <th>mean</th>\n",
       "      <td>2017.234732</td>\n",
       "      <td>18721.495553</td>\n",
       "      <td>18617.625756</td>\n",
       "      <td>71676.780171</td>\n",
       "      <td>9.666030</td>\n",
       "    </tr>\n",
       "    <tr>\n",
       "      <th>std</th>\n",
       "      <td>5.043858</td>\n",
       "      <td>35256.664730</td>\n",
       "      <td>15303.629327</td>\n",
       "      <td>29748.560237</td>\n",
       "      <td>0.565219</td>\n",
       "    </tr>\n",
       "    <tr>\n",
       "      <th>min</th>\n",
       "      <td>1971.000000</td>\n",
       "      <td>0.000000</td>\n",
       "      <td>999.000000</td>\n",
       "      <td>11101.000000</td>\n",
       "      <td>6.906755</td>\n",
       "    </tr>\n",
       "    <tr>\n",
       "      <th>25%</th>\n",
       "      <td>2017.000000</td>\n",
       "      <td>0.000000</td>\n",
       "      <td>12980.000000</td>\n",
       "      <td>66203.000000</td>\n",
       "      <td>9.471165</td>\n",
       "    </tr>\n",
       "    <tr>\n",
       "      <th>50%</th>\n",
       "      <td>2020.000000</td>\n",
       "      <td>0.000000</td>\n",
       "      <td>16665.000000</td>\n",
       "      <td>75207.000000</td>\n",
       "      <td>9.721066</td>\n",
       "    </tr>\n",
       "    <tr>\n",
       "      <th>75%</th>\n",
       "      <td>2020.000000</td>\n",
       "      <td>23581.250000</td>\n",
       "      <td>19396.000000</td>\n",
       "      <td>92521.000000</td>\n",
       "      <td>9.872822</td>\n",
       "    </tr>\n",
       "    <tr>\n",
       "      <th>max</th>\n",
       "      <td>2020.000000</td>\n",
       "      <td>261237.000000</td>\n",
       "      <td>269500.000000</td>\n",
       "      <td>99115.000000</td>\n",
       "      <td>12.504324</td>\n",
       "    </tr>\n",
       "  </tbody>\n",
       "</table>\n",
       "</div>"
      ],
      "text/plain": [
       "               Year           Mile          Price       zipcode     log_price\n",
       "count  28786.000000   28786.000000   28786.000000  28786.000000  28786.000000\n",
       "mean    2017.234732   18721.495553   18617.625756  71676.780171      9.666030\n",
       "std        5.043858   35256.664730   15303.629327  29748.560237      0.565219\n",
       "min     1971.000000       0.000000     999.000000  11101.000000      6.906755\n",
       "25%     2017.000000       0.000000   12980.000000  66203.000000      9.471165\n",
       "50%     2020.000000       0.000000   16665.000000  75207.000000      9.721066\n",
       "75%     2020.000000   23581.250000   19396.000000  92521.000000      9.872822\n",
       "max     2020.000000  261237.000000  269500.000000  99115.000000     12.504324"
      ]
     },
     "execution_count": 9,
     "metadata": {},
     "output_type": "execute_result"
    }
   ],
   "source": [
    "car_df_train.shape\n",
    "car_df_train.describe()"
   ]
  },
  {
   "cell_type": "code",
   "execution_count": 10,
   "metadata": {},
   "outputs": [
    {
     "data": {
      "text/plain": [
       "Year           0\n",
       "Brand          0\n",
       "Model          0\n",
       "Title          0\n",
       "Mile           0\n",
       "Price          0\n",
       "Transmition    0\n",
       "EXT_COLOR      0\n",
       "INT_COLOR      0\n",
       "Derivtrain     0\n",
       "zipcode        0\n",
       "log_price      0\n",
       "dtype: int64"
      ]
     },
     "execution_count": 10,
     "metadata": {},
     "output_type": "execute_result"
    }
   ],
   "source": [
    "car_df_train.isna().sum()"
   ]
  },
  {
   "cell_type": "markdown",
   "metadata": {},
   "source": [
    "# Fit linear regression model for prediction\n",
    "- Fisr we need to convert Devtrain categories value, lets convert it to 0/1 for the training dataset, and test dataset.\n",
    "- Rename the zipcode to particular city and convert them to binary 0/1 for a better prediction.\n",
    "- Fit our model and see our prediction"
   ]
  },
  {
   "cell_type": "code",
   "execution_count": 11,
   "metadata": {},
   "outputs": [
    {
     "data": {
      "text/html": [
       "<div>\n",
       "<style scoped>\n",
       "    .dataframe tbody tr th:only-of-type {\n",
       "        vertical-align: middle;\n",
       "    }\n",
       "\n",
       "    .dataframe tbody tr th {\n",
       "        vertical-align: top;\n",
       "    }\n",
       "\n",
       "    .dataframe thead th {\n",
       "        text-align: right;\n",
       "    }\n",
       "</style>\n",
       "<table border=\"1\" class=\"dataframe\">\n",
       "  <thead>\n",
       "    <tr style=\"text-align: right;\">\n",
       "      <th></th>\n",
       "      <th>Year</th>\n",
       "      <th>Brand</th>\n",
       "      <th>Model</th>\n",
       "      <th>Title</th>\n",
       "      <th>Mile</th>\n",
       "      <th>Price</th>\n",
       "      <th>Transmition</th>\n",
       "      <th>EXT_COLOR</th>\n",
       "      <th>INT_COLOR</th>\n",
       "      <th>Derivtrain</th>\n",
       "      <th>zipcode</th>\n",
       "      <th>log_price</th>\n",
       "      <th>4x4/4-wheel drive</th>\n",
       "      <th>AWD</th>\n",
       "      <th>FWD</th>\n",
       "      <th>RWD</th>\n",
       "    </tr>\n",
       "  </thead>\n",
       "  <tbody>\n",
       "    <tr>\n",
       "      <th>0</th>\n",
       "      <td>2017</td>\n",
       "      <td>Acura</td>\n",
       "      <td>ILX Base</td>\n",
       "      <td>USED</td>\n",
       "      <td>37874</td>\n",
       "      <td>14495.0</td>\n",
       "      <td>Automatic</td>\n",
       "      <td>White</td>\n",
       "      <td>Black</td>\n",
       "      <td>FWD</td>\n",
       "      <td>66203</td>\n",
       "      <td>9.581559</td>\n",
       "      <td>0</td>\n",
       "      <td>0</td>\n",
       "      <td>1</td>\n",
       "      <td>0</td>\n",
       "    </tr>\n",
       "    <tr>\n",
       "      <th>1</th>\n",
       "      <td>2017</td>\n",
       "      <td>Acura</td>\n",
       "      <td>ILX Base</td>\n",
       "      <td>USED</td>\n",
       "      <td>37874</td>\n",
       "      <td>14495.0</td>\n",
       "      <td>Automatic</td>\n",
       "      <td>White</td>\n",
       "      <td>Black</td>\n",
       "      <td>FWD</td>\n",
       "      <td>89107</td>\n",
       "      <td>9.581559</td>\n",
       "      <td>0</td>\n",
       "      <td>0</td>\n",
       "      <td>1</td>\n",
       "      <td>0</td>\n",
       "    </tr>\n",
       "    <tr>\n",
       "      <th>2</th>\n",
       "      <td>2015</td>\n",
       "      <td>Acura</td>\n",
       "      <td>TLX V6 Advance</td>\n",
       "      <td>USED</td>\n",
       "      <td>29317</td>\n",
       "      <td>14969.0</td>\n",
       "      <td>Automatic</td>\n",
       "      <td>White</td>\n",
       "      <td>Gray</td>\n",
       "      <td>FWD</td>\n",
       "      <td>89107</td>\n",
       "      <td>9.613737</td>\n",
       "      <td>0</td>\n",
       "      <td>0</td>\n",
       "      <td>1</td>\n",
       "      <td>0</td>\n",
       "    </tr>\n",
       "    <tr>\n",
       "      <th>3</th>\n",
       "      <td>2016</td>\n",
       "      <td>Acura</td>\n",
       "      <td>ILX Technology Plus Package</td>\n",
       "      <td>USED</td>\n",
       "      <td>22732</td>\n",
       "      <td>13999.0</td>\n",
       "      <td>Automatic</td>\n",
       "      <td>White</td>\n",
       "      <td>Black</td>\n",
       "      <td>FWD</td>\n",
       "      <td>99115</td>\n",
       "      <td>9.546741</td>\n",
       "      <td>0</td>\n",
       "      <td>0</td>\n",
       "      <td>1</td>\n",
       "      <td>0</td>\n",
       "    </tr>\n",
       "    <tr>\n",
       "      <th>4</th>\n",
       "      <td>2019</td>\n",
       "      <td>Acura</td>\n",
       "      <td>MDX Sport Hybrid 3.0L w/Advance Package</td>\n",
       "      <td>USED</td>\n",
       "      <td>0</td>\n",
       "      <td>40945.0</td>\n",
       "      <td>Automatic</td>\n",
       "      <td>Black</td>\n",
       "      <td>Black</td>\n",
       "      <td>AWD</td>\n",
       "      <td>66203</td>\n",
       "      <td>10.619985</td>\n",
       "      <td>0</td>\n",
       "      <td>1</td>\n",
       "      <td>0</td>\n",
       "      <td>0</td>\n",
       "    </tr>\n",
       "    <tr>\n",
       "      <th>...</th>\n",
       "      <td>...</td>\n",
       "      <td>...</td>\n",
       "      <td>...</td>\n",
       "      <td>...</td>\n",
       "      <td>...</td>\n",
       "      <td>...</td>\n",
       "      <td>...</td>\n",
       "      <td>...</td>\n",
       "      <td>...</td>\n",
       "      <td>...</td>\n",
       "      <td>...</td>\n",
       "      <td>...</td>\n",
       "      <td>...</td>\n",
       "      <td>...</td>\n",
       "      <td>...</td>\n",
       "      <td>...</td>\n",
       "    </tr>\n",
       "    <tr>\n",
       "      <th>28781</th>\n",
       "      <td>2012</td>\n",
       "      <td>smart</td>\n",
       "      <td>ForTwo Pure</td>\n",
       "      <td>USED</td>\n",
       "      <td>45872</td>\n",
       "      <td>7998.0</td>\n",
       "      <td>Automatic</td>\n",
       "      <td>White</td>\n",
       "      <td>Black</td>\n",
       "      <td>RWD</td>\n",
       "      <td>75207</td>\n",
       "      <td>8.986947</td>\n",
       "      <td>0</td>\n",
       "      <td>0</td>\n",
       "      <td>0</td>\n",
       "      <td>1</td>\n",
       "    </tr>\n",
       "    <tr>\n",
       "      <th>28782</th>\n",
       "      <td>2013</td>\n",
       "      <td>smart</td>\n",
       "      <td>ForTwo Pure</td>\n",
       "      <td>USED</td>\n",
       "      <td>32272</td>\n",
       "      <td>5980.0</td>\n",
       "      <td>Automatic</td>\n",
       "      <td>Black</td>\n",
       "      <td>Black</td>\n",
       "      <td>RWD</td>\n",
       "      <td>11101</td>\n",
       "      <td>8.696176</td>\n",
       "      <td>0</td>\n",
       "      <td>0</td>\n",
       "      <td>0</td>\n",
       "      <td>1</td>\n",
       "    </tr>\n",
       "    <tr>\n",
       "      <th>28783</th>\n",
       "      <td>2012</td>\n",
       "      <td>smart</td>\n",
       "      <td>ForTwo Pure</td>\n",
       "      <td>USED</td>\n",
       "      <td>45872</td>\n",
       "      <td>7998.0</td>\n",
       "      <td>Automatic</td>\n",
       "      <td>White</td>\n",
       "      <td>Black</td>\n",
       "      <td>RWD</td>\n",
       "      <td>99115</td>\n",
       "      <td>8.986947</td>\n",
       "      <td>0</td>\n",
       "      <td>0</td>\n",
       "      <td>0</td>\n",
       "      <td>1</td>\n",
       "    </tr>\n",
       "    <tr>\n",
       "      <th>28784</th>\n",
       "      <td>2012</td>\n",
       "      <td>smart</td>\n",
       "      <td>ForTwo Pure</td>\n",
       "      <td>USED</td>\n",
       "      <td>45672</td>\n",
       "      <td>6980.0</td>\n",
       "      <td>Automatic</td>\n",
       "      <td>Blue</td>\n",
       "      <td>Black</td>\n",
       "      <td>RWD</td>\n",
       "      <td>66203</td>\n",
       "      <td>8.850804</td>\n",
       "      <td>0</td>\n",
       "      <td>0</td>\n",
       "      <td>0</td>\n",
       "      <td>1</td>\n",
       "    </tr>\n",
       "    <tr>\n",
       "      <th>28785</th>\n",
       "      <td>2017</td>\n",
       "      <td>smart</td>\n",
       "      <td>ForTwo Electric Drive passion</td>\n",
       "      <td>USED</td>\n",
       "      <td>14565</td>\n",
       "      <td>7997.0</td>\n",
       "      <td>Automatic</td>\n",
       "      <td>White</td>\n",
       "      <td>Black</td>\n",
       "      <td>RWD</td>\n",
       "      <td>75207</td>\n",
       "      <td>8.986822</td>\n",
       "      <td>0</td>\n",
       "      <td>0</td>\n",
       "      <td>0</td>\n",
       "      <td>1</td>\n",
       "    </tr>\n",
       "  </tbody>\n",
       "</table>\n",
       "<p>28786 rows × 16 columns</p>\n",
       "</div>"
      ],
      "text/plain": [
       "       Year  Brand                                    Model Title   Mile  \\\n",
       "0      2017  Acura                                 ILX Base  USED  37874   \n",
       "1      2017  Acura                                 ILX Base  USED  37874   \n",
       "2      2015  Acura                           TLX V6 Advance  USED  29317   \n",
       "3      2016  Acura              ILX Technology Plus Package  USED  22732   \n",
       "4      2019  Acura  MDX Sport Hybrid 3.0L w/Advance Package  USED      0   \n",
       "...     ...    ...                                      ...   ...    ...   \n",
       "28781  2012  smart                              ForTwo Pure  USED  45872   \n",
       "28782  2013  smart                              ForTwo Pure  USED  32272   \n",
       "28783  2012  smart                              ForTwo Pure  USED  45872   \n",
       "28784  2012  smart                              ForTwo Pure  USED  45672   \n",
       "28785  2017  smart            ForTwo Electric Drive passion  USED  14565   \n",
       "\n",
       "         Price Transmition EXT_COLOR INT_COLOR Derivtrain  zipcode  log_price  \\\n",
       "0      14495.0   Automatic     White     Black        FWD    66203   9.581559   \n",
       "1      14495.0   Automatic     White     Black        FWD    89107   9.581559   \n",
       "2      14969.0   Automatic     White      Gray        FWD    89107   9.613737   \n",
       "3      13999.0   Automatic     White     Black        FWD    99115   9.546741   \n",
       "4      40945.0   Automatic     Black     Black        AWD    66203  10.619985   \n",
       "...        ...         ...       ...       ...        ...      ...        ...   \n",
       "28781   7998.0   Automatic     White     Black        RWD    75207   8.986947   \n",
       "28782   5980.0   Automatic     Black     Black        RWD    11101   8.696176   \n",
       "28783   7998.0   Automatic     White     Black        RWD    99115   8.986947   \n",
       "28784   6980.0   Automatic      Blue     Black        RWD    66203   8.850804   \n",
       "28785   7997.0   Automatic     White     Black        RWD    75207   8.986822   \n",
       "\n",
       "       4x4/4-wheel drive  AWD  FWD  RWD  \n",
       "0                      0    0    1    0  \n",
       "1                      0    0    1    0  \n",
       "2                      0    0    1    0  \n",
       "3                      0    0    1    0  \n",
       "4                      0    1    0    0  \n",
       "...                  ...  ...  ...  ...  \n",
       "28781                  0    0    0    1  \n",
       "28782                  0    0    0    1  \n",
       "28783                  0    0    0    1  \n",
       "28784                  0    0    0    1  \n",
       "28785                  0    0    0    1  \n",
       "\n",
       "[28786 rows x 16 columns]"
      ]
     },
     "execution_count": 11,
     "metadata": {},
     "output_type": "execute_result"
    }
   ],
   "source": [
    "df_Derivtrain = pd.get_dummies(car_df_train['Derivtrain'])\n",
    "car_df_train = pd.concat([car_df_train, df_Derivtrain], axis=1)\n",
    "car_df_train"
   ]
  },
  {
   "cell_type": "code",
   "execution_count": 12,
   "metadata": {},
   "outputs": [
    {
     "data": {
      "text/html": [
       "<div>\n",
       "<style scoped>\n",
       "    .dataframe tbody tr th:only-of-type {\n",
       "        vertical-align: middle;\n",
       "    }\n",
       "\n",
       "    .dataframe tbody tr th {\n",
       "        vertical-align: top;\n",
       "    }\n",
       "\n",
       "    .dataframe thead th {\n",
       "        text-align: right;\n",
       "    }\n",
       "</style>\n",
       "<table border=\"1\" class=\"dataframe\">\n",
       "  <thead>\n",
       "    <tr style=\"text-align: right;\">\n",
       "      <th></th>\n",
       "      <th>Year</th>\n",
       "      <th>Brand</th>\n",
       "      <th>Model</th>\n",
       "      <th>Title</th>\n",
       "      <th>Mile</th>\n",
       "      <th>Price</th>\n",
       "      <th>Transmition</th>\n",
       "      <th>EXT_COLOR</th>\n",
       "      <th>INT_COLOR</th>\n",
       "      <th>Derivtrain</th>\n",
       "      <th>zipcode</th>\n",
       "      <th>log_price</th>\n",
       "      <th>4x4/4-wheel drive</th>\n",
       "      <th>AWD</th>\n",
       "      <th>FWD</th>\n",
       "      <th>RWD</th>\n",
       "    </tr>\n",
       "  </thead>\n",
       "  <tbody>\n",
       "    <tr>\n",
       "      <th>0</th>\n",
       "      <td>2017</td>\n",
       "      <td>Acura</td>\n",
       "      <td>ILX Base</td>\n",
       "      <td>USED</td>\n",
       "      <td>37874</td>\n",
       "      <td>14495.0</td>\n",
       "      <td>Automatic</td>\n",
       "      <td>White</td>\n",
       "      <td>Black</td>\n",
       "      <td>FWD</td>\n",
       "      <td>66203</td>\n",
       "      <td>9.581559</td>\n",
       "      <td>0</td>\n",
       "      <td>0</td>\n",
       "      <td>1</td>\n",
       "      <td>0</td>\n",
       "    </tr>\n",
       "    <tr>\n",
       "      <th>1</th>\n",
       "      <td>2017</td>\n",
       "      <td>Acura</td>\n",
       "      <td>ILX Base</td>\n",
       "      <td>USED</td>\n",
       "      <td>37874</td>\n",
       "      <td>14495.0</td>\n",
       "      <td>Automatic</td>\n",
       "      <td>White</td>\n",
       "      <td>Black</td>\n",
       "      <td>FWD</td>\n",
       "      <td>89107</td>\n",
       "      <td>9.581559</td>\n",
       "      <td>0</td>\n",
       "      <td>0</td>\n",
       "      <td>1</td>\n",
       "      <td>0</td>\n",
       "    </tr>\n",
       "    <tr>\n",
       "      <th>2</th>\n",
       "      <td>2015</td>\n",
       "      <td>Acura</td>\n",
       "      <td>TLX V6 Advance</td>\n",
       "      <td>USED</td>\n",
       "      <td>29317</td>\n",
       "      <td>14969.0</td>\n",
       "      <td>Automatic</td>\n",
       "      <td>White</td>\n",
       "      <td>Gray</td>\n",
       "      <td>FWD</td>\n",
       "      <td>89107</td>\n",
       "      <td>9.613737</td>\n",
       "      <td>0</td>\n",
       "      <td>0</td>\n",
       "      <td>1</td>\n",
       "      <td>0</td>\n",
       "    </tr>\n",
       "    <tr>\n",
       "      <th>3</th>\n",
       "      <td>2016</td>\n",
       "      <td>Acura</td>\n",
       "      <td>ILX Technology Plus Package</td>\n",
       "      <td>USED</td>\n",
       "      <td>22732</td>\n",
       "      <td>13999.0</td>\n",
       "      <td>Automatic</td>\n",
       "      <td>White</td>\n",
       "      <td>Black</td>\n",
       "      <td>FWD</td>\n",
       "      <td>99115</td>\n",
       "      <td>9.546741</td>\n",
       "      <td>0</td>\n",
       "      <td>0</td>\n",
       "      <td>1</td>\n",
       "      <td>0</td>\n",
       "    </tr>\n",
       "    <tr>\n",
       "      <th>4</th>\n",
       "      <td>2019</td>\n",
       "      <td>Acura</td>\n",
       "      <td>MDX Sport Hybrid 3.0L w/Advance Package</td>\n",
       "      <td>USED</td>\n",
       "      <td>0</td>\n",
       "      <td>40945.0</td>\n",
       "      <td>Automatic</td>\n",
       "      <td>Black</td>\n",
       "      <td>Black</td>\n",
       "      <td>AWD</td>\n",
       "      <td>66203</td>\n",
       "      <td>10.619985</td>\n",
       "      <td>0</td>\n",
       "      <td>1</td>\n",
       "      <td>0</td>\n",
       "      <td>0</td>\n",
       "    </tr>\n",
       "    <tr>\n",
       "      <th>5</th>\n",
       "      <td>2014</td>\n",
       "      <td>Acura</td>\n",
       "      <td>ILX 2.0L</td>\n",
       "      <td>USED</td>\n",
       "      <td>61968</td>\n",
       "      <td>9000.0</td>\n",
       "      <td>Automatic</td>\n",
       "      <td>White</td>\n",
       "      <td>Black</td>\n",
       "      <td>FWD</td>\n",
       "      <td>66203</td>\n",
       "      <td>9.104980</td>\n",
       "      <td>0</td>\n",
       "      <td>0</td>\n",
       "      <td>1</td>\n",
       "      <td>0</td>\n",
       "    </tr>\n",
       "  </tbody>\n",
       "</table>\n",
       "</div>"
      ],
      "text/plain": [
       "   Year  Brand                                    Model Title   Mile    Price  \\\n",
       "0  2017  Acura                                 ILX Base  USED  37874  14495.0   \n",
       "1  2017  Acura                                 ILX Base  USED  37874  14495.0   \n",
       "2  2015  Acura                           TLX V6 Advance  USED  29317  14969.0   \n",
       "3  2016  Acura              ILX Technology Plus Package  USED  22732  13999.0   \n",
       "4  2019  Acura  MDX Sport Hybrid 3.0L w/Advance Package  USED      0  40945.0   \n",
       "5  2014  Acura                                 ILX 2.0L  USED  61968   9000.0   \n",
       "\n",
       "  Transmition EXT_COLOR INT_COLOR Derivtrain  zipcode  log_price  \\\n",
       "0   Automatic     White     Black        FWD    66203   9.581559   \n",
       "1   Automatic     White     Black        FWD    89107   9.581559   \n",
       "2   Automatic     White      Gray        FWD    89107   9.613737   \n",
       "3   Automatic     White     Black        FWD    99115   9.546741   \n",
       "4   Automatic     Black     Black        AWD    66203  10.619985   \n",
       "5   Automatic     White     Black        FWD    66203   9.104980   \n",
       "\n",
       "   4x4/4-wheel drive  AWD  FWD  RWD  \n",
       "0                  0    0    1    0  \n",
       "1                  0    0    1    0  \n",
       "2                  0    0    1    0  \n",
       "3                  0    0    1    0  \n",
       "4                  0    1    0    0  \n",
       "5                  0    0    1    0  "
      ]
     },
     "execution_count": 12,
     "metadata": {},
     "output_type": "execute_result"
    }
   ],
   "source": [
    "car_df_test = pd.read_csv(\"results1.csv\")\n",
    "df_Derivtrain = pd.get_dummies(car_df_test['Derivtrain'])\n",
    "car_df_test = pd.concat([car_df_test, df_Derivtrain], axis=1)\n",
    "car_df_test.head(6)"
   ]
  },
  {
   "cell_type": "code",
   "execution_count": 13,
   "metadata": {},
   "outputs": [
    {
     "data": {
      "text/plain": [
       "FWD                  20938\n",
       "AWD                   3859\n",
       "RWD                   2778\n",
       "4x4/4-wheel drive     1211\n",
       "Name: Derivtrain, dtype: int64"
      ]
     },
     "execution_count": 13,
     "metadata": {},
     "output_type": "execute_result"
    }
   ],
   "source": [
    "car_df_train[\"Derivtrain\"].value_counts()"
   ]
  },
  {
   "cell_type": "code",
   "execution_count": 14,
   "metadata": {},
   "outputs": [
    {
     "data": {
      "text/plain": [
       "0    24927\n",
       "1     3859\n",
       "Name: AWD, dtype: int64"
      ]
     },
     "execution_count": 14,
     "metadata": {},
     "output_type": "execute_result"
    }
   ],
   "source": [
    "car_df_train[\"AWD\"].value_counts()\n"
   ]
  },
  {
   "cell_type": "code",
   "execution_count": 15,
   "metadata": {},
   "outputs": [
    {
     "data": {
      "text/html": [
       "<div>\n",
       "<style scoped>\n",
       "    .dataframe tbody tr th:only-of-type {\n",
       "        vertical-align: middle;\n",
       "    }\n",
       "\n",
       "    .dataframe tbody tr th {\n",
       "        vertical-align: top;\n",
       "    }\n",
       "\n",
       "    .dataframe thead th {\n",
       "        text-align: right;\n",
       "    }\n",
       "</style>\n",
       "<table border=\"1\" class=\"dataframe\">\n",
       "  <thead>\n",
       "    <tr style=\"text-align: right;\">\n",
       "      <th></th>\n",
       "      <th>Year</th>\n",
       "      <th>Brand</th>\n",
       "      <th>Model</th>\n",
       "      <th>Title</th>\n",
       "      <th>Mile</th>\n",
       "      <th>Price</th>\n",
       "      <th>Transmition</th>\n",
       "      <th>EXT_COLOR</th>\n",
       "      <th>INT_COLOR</th>\n",
       "      <th>Derivtrain</th>\n",
       "      <th>...</th>\n",
       "      <th>AWD</th>\n",
       "      <th>FWD</th>\n",
       "      <th>RWD</th>\n",
       "      <th>New York</th>\n",
       "      <th>Kansas</th>\n",
       "      <th>Texas</th>\n",
       "      <th>Nevada</th>\n",
       "      <th>Riverside</th>\n",
       "      <th>Washington</th>\n",
       "      <th>zipcode_nan</th>\n",
       "    </tr>\n",
       "  </thead>\n",
       "  <tbody>\n",
       "    <tr>\n",
       "      <th>0</th>\n",
       "      <td>2017</td>\n",
       "      <td>Acura</td>\n",
       "      <td>ILX Base</td>\n",
       "      <td>USED</td>\n",
       "      <td>37874</td>\n",
       "      <td>14495.0</td>\n",
       "      <td>Automatic</td>\n",
       "      <td>White</td>\n",
       "      <td>Black</td>\n",
       "      <td>FWD</td>\n",
       "      <td>...</td>\n",
       "      <td>0</td>\n",
       "      <td>1</td>\n",
       "      <td>0</td>\n",
       "      <td>0</td>\n",
       "      <td>1</td>\n",
       "      <td>0</td>\n",
       "      <td>0</td>\n",
       "      <td>0</td>\n",
       "      <td>0</td>\n",
       "      <td>0</td>\n",
       "    </tr>\n",
       "    <tr>\n",
       "      <th>1</th>\n",
       "      <td>2017</td>\n",
       "      <td>Acura</td>\n",
       "      <td>ILX Base</td>\n",
       "      <td>USED</td>\n",
       "      <td>37874</td>\n",
       "      <td>14495.0</td>\n",
       "      <td>Automatic</td>\n",
       "      <td>White</td>\n",
       "      <td>Black</td>\n",
       "      <td>FWD</td>\n",
       "      <td>...</td>\n",
       "      <td>0</td>\n",
       "      <td>1</td>\n",
       "      <td>0</td>\n",
       "      <td>0</td>\n",
       "      <td>0</td>\n",
       "      <td>0</td>\n",
       "      <td>1</td>\n",
       "      <td>0</td>\n",
       "      <td>0</td>\n",
       "      <td>0</td>\n",
       "    </tr>\n",
       "  </tbody>\n",
       "</table>\n",
       "<p>2 rows × 23 columns</p>\n",
       "</div>"
      ],
      "text/plain": [
       "   Year  Brand     Model Title   Mile    Price Transmition EXT_COLOR  \\\n",
       "0  2017  Acura  ILX Base  USED  37874  14495.0   Automatic     White   \n",
       "1  2017  Acura  ILX Base  USED  37874  14495.0   Automatic     White   \n",
       "\n",
       "  INT_COLOR Derivtrain  ...  AWD  FWD  RWD  New York  Kansas  Texas  Nevada  \\\n",
       "0     Black        FWD  ...    0    1    0         0       1      0       0   \n",
       "1     Black        FWD  ...    0    1    0         0       0      0       1   \n",
       "\n",
       "   Riverside  Washington  zipcode_nan  \n",
       "0          0           0            0  \n",
       "1          0           0            0  \n",
       "\n",
       "[2 rows x 23 columns]"
      ]
     },
     "execution_count": 15,
     "metadata": {},
     "output_type": "execute_result"
    }
   ],
   "source": [
    "car_df_train = pd.concat([car_df_train,pd.get_dummies(car_df_train['zipcode'], prefix='zipcode',dummy_na=True)],axis=1)\n",
    "\n",
    "\n",
    "car_df_train.rename(columns = {'zipcode_11101.0':'New York',\n",
    "                           'zipcode_66203.0':'Kansas',\n",
    "                           'zipcode_75207.0':'Texas',\n",
    "                           'zipcode_89107.0':'Nevada',\n",
    "                           'zipcode_92521.0':'Riverside',\n",
    "                           'zipcode_99115.0':'Washington'}, inplace = True)\n",
    "\n",
    "car_df_train.head(2)"
   ]
  },
  {
   "cell_type": "code",
   "execution_count": 16,
   "metadata": {},
   "outputs": [
    {
     "data": {
      "text/html": [
       "<div>\n",
       "<style scoped>\n",
       "    .dataframe tbody tr th:only-of-type {\n",
       "        vertical-align: middle;\n",
       "    }\n",
       "\n",
       "    .dataframe tbody tr th {\n",
       "        vertical-align: top;\n",
       "    }\n",
       "\n",
       "    .dataframe thead th {\n",
       "        text-align: right;\n",
       "    }\n",
       "</style>\n",
       "<table border=\"1\" class=\"dataframe\">\n",
       "  <thead>\n",
       "    <tr style=\"text-align: right;\">\n",
       "      <th></th>\n",
       "      <th>Year</th>\n",
       "      <th>Brand</th>\n",
       "      <th>Model</th>\n",
       "      <th>Title</th>\n",
       "      <th>Mile</th>\n",
       "      <th>Price</th>\n",
       "      <th>Transmition</th>\n",
       "      <th>EXT_COLOR</th>\n",
       "      <th>INT_COLOR</th>\n",
       "      <th>Derivtrain</th>\n",
       "      <th>...</th>\n",
       "      <th>AWD</th>\n",
       "      <th>FWD</th>\n",
       "      <th>RWD</th>\n",
       "      <th>New York</th>\n",
       "      <th>Kansas</th>\n",
       "      <th>Texas</th>\n",
       "      <th>Nevada</th>\n",
       "      <th>Riverside</th>\n",
       "      <th>Washington</th>\n",
       "      <th>zipcode_nan</th>\n",
       "    </tr>\n",
       "  </thead>\n",
       "  <tbody>\n",
       "    <tr>\n",
       "      <th>0</th>\n",
       "      <td>2017</td>\n",
       "      <td>Acura</td>\n",
       "      <td>ILX Base</td>\n",
       "      <td>USED</td>\n",
       "      <td>37874</td>\n",
       "      <td>14495.0</td>\n",
       "      <td>Automatic</td>\n",
       "      <td>White</td>\n",
       "      <td>Black</td>\n",
       "      <td>FWD</td>\n",
       "      <td>...</td>\n",
       "      <td>0</td>\n",
       "      <td>1</td>\n",
       "      <td>0</td>\n",
       "      <td>0</td>\n",
       "      <td>1</td>\n",
       "      <td>0</td>\n",
       "      <td>0</td>\n",
       "      <td>0</td>\n",
       "      <td>0</td>\n",
       "      <td>0</td>\n",
       "    </tr>\n",
       "    <tr>\n",
       "      <th>1</th>\n",
       "      <td>2017</td>\n",
       "      <td>Acura</td>\n",
       "      <td>ILX Base</td>\n",
       "      <td>USED</td>\n",
       "      <td>37874</td>\n",
       "      <td>14495.0</td>\n",
       "      <td>Automatic</td>\n",
       "      <td>White</td>\n",
       "      <td>Black</td>\n",
       "      <td>FWD</td>\n",
       "      <td>...</td>\n",
       "      <td>0</td>\n",
       "      <td>1</td>\n",
       "      <td>0</td>\n",
       "      <td>0</td>\n",
       "      <td>0</td>\n",
       "      <td>0</td>\n",
       "      <td>1</td>\n",
       "      <td>0</td>\n",
       "      <td>0</td>\n",
       "      <td>0</td>\n",
       "    </tr>\n",
       "  </tbody>\n",
       "</table>\n",
       "<p>2 rows × 23 columns</p>\n",
       "</div>"
      ],
      "text/plain": [
       "   Year  Brand     Model Title   Mile    Price Transmition EXT_COLOR  \\\n",
       "0  2017  Acura  ILX Base  USED  37874  14495.0   Automatic     White   \n",
       "1  2017  Acura  ILX Base  USED  37874  14495.0   Automatic     White   \n",
       "\n",
       "  INT_COLOR Derivtrain  ...  AWD  FWD  RWD  New York  Kansas  Texas  Nevada  \\\n",
       "0     Black        FWD  ...    0    1    0         0       1      0       0   \n",
       "1     Black        FWD  ...    0    1    0         0       0      0       1   \n",
       "\n",
       "   Riverside  Washington  zipcode_nan  \n",
       "0          0           0            0  \n",
       "1          0           0            0  \n",
       "\n",
       "[2 rows x 23 columns]"
      ]
     },
     "execution_count": 16,
     "metadata": {},
     "output_type": "execute_result"
    }
   ],
   "source": [
    "car_df_test = pd.concat([car_df_test,pd.get_dummies(car_df_test['zipcode'], prefix='zipcode',dummy_na=True)],axis=1)\n",
    "car_df_test.rename(columns = {'zipcode_11101.0':'New York',\n",
    "                           'zipcode_66203.0':'Kansas',\n",
    "                           'zipcode_75207.0':'Texas',\n",
    "                           'zipcode_89107.0':'Nevada',\n",
    "                           'zipcode_92521.0':'Riverside',\n",
    "                           'zipcode_99115.0':'Washington'}, inplace = True)\n",
    "car_df_test.head(2)"
   ]
  },
  {
   "cell_type": "code",
   "execution_count": 17,
   "metadata": {},
   "outputs": [
    {
     "data": {
      "text/plain": [
       "LinearRegression(copy_X=True, fit_intercept=True, n_jobs=None, normalize=False)"
      ]
     },
     "execution_count": 17,
     "metadata": {},
     "output_type": "execute_result"
    }
   ],
   "source": [
    "from sklearn.linear_model import LinearRegression\n",
    "\n",
    "ashen_model = LinearRegression()\n",
    "ashen_model.fit(\n",
    "    X=car_df_train[[\"AWD\", \"zipcode\", \"Mile\"]],\n",
    "    y=car_df_train[\"Price\"]\n",
    ")"
   ]
  },
  {
   "cell_type": "code",
   "execution_count": 18,
   "metadata": {},
   "outputs": [
    {
     "name": "stdout",
     "output_type": "stream",
     "text": [
      "A AWD car with 90000 miles in New York can predict to be: $ 22865.01\n"
     ]
    }
   ],
   "source": [
    "x_test = pd.Series()\n",
    "x_test[\"AWD\"] = 1\n",
    "x_test[\"zipcode\"] = 11101\n",
    "x_test[\"Mile\"] = 90000.0\n",
    "\n",
    "result = ashen_model.predict(X=pd.DataFrame([x_test]))\n",
    "print(\"A AWD car with 90000 miles in New York can predict to be: $\",result[0].round(2))"
   ]
  },
  {
   "cell_type": "markdown",
   "metadata": {},
   "source": [
    "**we can do this method in different way. As I did earlier I changed zipcode to boolean and specified each zipcode to one column. It helps us to predict our model faster and easier.**"
   ]
  },
  {
   "cell_type": "code",
   "execution_count": 19,
   "metadata": {},
   "outputs": [
    {
     "data": {
      "text/plain": [
       "LinearRegression(copy_X=True, fit_intercept=True, n_jobs=None, normalize=False)"
      ]
     },
     "execution_count": 19,
     "metadata": {},
     "output_type": "execute_result"
    }
   ],
   "source": [
    "from sklearn.linear_model import LinearRegression\n",
    "\n",
    "ashen_model = LinearRegression()\n",
    "ashen_model.fit(\n",
    "    X=car_df_train[[\"AWD\", \"Riverside\", \"Mile\"]],\n",
    "    y=car_df_train[\"Price\"]\n",
    ")"
   ]
  },
  {
   "cell_type": "code",
   "execution_count": 20,
   "metadata": {},
   "outputs": [
    {
     "name": "stdout",
     "output_type": "stream",
     "text": [
      "A AWD car with 90000 miles in Riverside can predict to be: $ 22880.26\n"
     ]
    }
   ],
   "source": [
    "x_test = pd.Series()\n",
    "x_test[\"AWD\"] = 1\n",
    "x_test[\"Riverside\"] = 1\n",
    "x_test[\"Mile\"] = 90000.0\n",
    "\n",
    "result = ashen_model.predict(X=pd.DataFrame([x_test]))\n",
    "print(\"A AWD car with 90000 miles in Riverside can predict to be: $\",result[0].round(2))"
   ]
  },
  {
   "cell_type": "markdown",
   "metadata": {},
   "source": [
    "**AS we see the result of these two area are really close to each other. Now lets look at different year and different model of cars, and predict them.**"
   ]
  },
  {
   "cell_type": "code",
   "execution_count": 21,
   "metadata": {},
   "outputs": [
    {
     "data": {
      "text/plain": [
       "LinearRegression(copy_X=True, fit_intercept=True, n_jobs=None, normalize=False)"
      ]
     },
     "execution_count": 21,
     "metadata": {},
     "output_type": "execute_result"
    }
   ],
   "source": [
    "from sklearn.linear_model import LinearRegression\n",
    "\n",
    "ashen_model = LinearRegression()\n",
    "ashen_model.fit(\n",
    "    X=car_df_train[[\"FWD\", \"Texas\", \"Mile\", \"Year\"]],\n",
    "    y=car_df_train[\"Price\"]\n",
    ")"
   ]
  },
  {
   "cell_type": "code",
   "execution_count": 22,
   "metadata": {},
   "outputs": [
    {
     "name": "stdout",
     "output_type": "stream",
     "text": [
      "A FWD car with 85000 miles in Riverside can predict to be: $ 6080.14\n"
     ]
    }
   ],
   "source": [
    "x_test = pd.Series()\n",
    "x_test[\"FWD\"] = 1\n",
    "x_test[\"Texas\"] = 1\n",
    "x_test[\"Mile\"] = 85000.0\n",
    "x_test[\"Year\"] = 2015\n",
    "\n",
    "result = ashen_model.predict(X=pd.DataFrame([x_test]))\n",
    "print(\"A FWD car with 85000 miles in Riverside can predict to be: $\",result[0].round(2))"
   ]
  },
  {
   "cell_type": "markdown",
   "metadata": {},
   "source": [
    "**How about we look into another zipcode and see what is our result!**"
   ]
  },
  {
   "cell_type": "code",
   "execution_count": 23,
   "metadata": {},
   "outputs": [
    {
     "name": "stdout",
     "output_type": "stream",
     "text": [
      "A FWD car with 85000 miles in Riverside can predict to be: $ 5889.54\n"
     ]
    }
   ],
   "source": [
    "from sklearn.linear_model import LinearRegression\n",
    "\n",
    "ashen_model = LinearRegression()\n",
    "ashen_model.fit(\n",
    "    X=car_df_train[[\"FWD\", \"Nevada\", \"Mile\", \"Year\"]],\n",
    "    y=car_df_train[\"Price\"]\n",
    ")\n",
    "\n",
    "x_test = pd.Series()\n",
    "x_test[\"FWD\"] = 1\n",
    "x_test[\"Nevada\"] = 1\n",
    "x_test[\"Mile\"] = 85000.0\n",
    "x_test[\"Year\"] = 2015\n",
    "\n",
    "result = ashen_model.predict(X=pd.DataFrame([x_test]))\n",
    "print(\"A FWD car with 85000 miles in Riverside can predict to be: $\",result[0].round(2))"
   ]
  },
  {
   "cell_type": "markdown",
   "metadata": {},
   "source": [
    "**As we can see our prediction is much better than the first one since we add one more field(Year), How about we add another field for our prediction, like Brand. To do this we need to reduce our brands, then use the boolean expression for comparison.** \n"
   ]
  },
  {
   "cell_type": "code",
   "execution_count": 24,
   "metadata": {},
   "outputs": [
    {
     "data": {
      "text/plain": [
       "Chevrolet    14584\n",
       "Nissan        3118\n",
       "Ford          1484\n",
       "Hyundai        803\n",
       "Dodge          666\n",
       "Cadillac       630\n",
       "Chrysler       504\n",
       "Honda          456\n",
       "Toyota         445\n",
       "Kia            426\n",
       "Buick          420\n",
       "Name: Brand, dtype: int64"
      ]
     },
     "execution_count": 24,
     "metadata": {},
     "output_type": "execute_result"
    }
   ],
   "source": [
    "grp = car_df_train.groupby('Brand') \n",
    "car_train = grp.filter(lambda x: len(x) >= 400)\n",
    "car_train['Brand'].value_counts()"
   ]
  },
  {
   "cell_type": "code",
   "execution_count": 25,
   "metadata": {},
   "outputs": [
    {
     "data": {
      "text/plain": [
       "Chevrolet    14584\n",
       "Nissan        3118\n",
       "Ford          1484\n",
       "Hyundai        803\n",
       "Dodge          666\n",
       "Cadillac       630\n",
       "Chrysler       504\n",
       "Honda          456\n",
       "Toyota         445\n",
       "Kia            426\n",
       "Buick          420\n",
       "Name: Brand, dtype: int64"
      ]
     },
     "execution_count": 25,
     "metadata": {},
     "output_type": "execute_result"
    }
   ],
   "source": [
    "grp = car_df_test.groupby('Brand') \n",
    "car_test = grp.filter(lambda x: len(x) >= 400)\n",
    "car_test['Brand'].value_counts()"
   ]
  },
  {
   "cell_type": "code",
   "execution_count": 26,
   "metadata": {},
   "outputs": [
    {
     "data": {
      "text/html": [
       "<div>\n",
       "<style scoped>\n",
       "    .dataframe tbody tr th:only-of-type {\n",
       "        vertical-align: middle;\n",
       "    }\n",
       "\n",
       "    .dataframe tbody tr th {\n",
       "        vertical-align: top;\n",
       "    }\n",
       "\n",
       "    .dataframe thead th {\n",
       "        text-align: right;\n",
       "    }\n",
       "</style>\n",
       "<table border=\"1\" class=\"dataframe\">\n",
       "  <thead>\n",
       "    <tr style=\"text-align: right;\">\n",
       "      <th></th>\n",
       "      <th>Year</th>\n",
       "      <th>Brand</th>\n",
       "      <th>Model</th>\n",
       "      <th>Title</th>\n",
       "      <th>Mile</th>\n",
       "      <th>Price</th>\n",
       "      <th>Transmition</th>\n",
       "      <th>EXT_COLOR</th>\n",
       "      <th>INT_COLOR</th>\n",
       "      <th>Derivtrain</th>\n",
       "      <th>...</th>\n",
       "      <th>Cadillac</th>\n",
       "      <th>Chevrolet</th>\n",
       "      <th>Chrysler</th>\n",
       "      <th>Dodge</th>\n",
       "      <th>Ford</th>\n",
       "      <th>Honda</th>\n",
       "      <th>Hyundai</th>\n",
       "      <th>Kia</th>\n",
       "      <th>Nissan</th>\n",
       "      <th>Toyota</th>\n",
       "    </tr>\n",
       "  </thead>\n",
       "  <tbody>\n",
       "    <tr>\n",
       "      <th>1010</th>\n",
       "      <td>2002</td>\n",
       "      <td>Buick</td>\n",
       "      <td>Rendezvous CX</td>\n",
       "      <td>USED</td>\n",
       "      <td>90002</td>\n",
       "      <td>2999.0</td>\n",
       "      <td>Automatic</td>\n",
       "      <td>Other</td>\n",
       "      <td>Gray</td>\n",
       "      <td>FWD</td>\n",
       "      <td>...</td>\n",
       "      <td>0</td>\n",
       "      <td>0</td>\n",
       "      <td>0</td>\n",
       "      <td>0</td>\n",
       "      <td>0</td>\n",
       "      <td>0</td>\n",
       "      <td>0</td>\n",
       "      <td>0</td>\n",
       "      <td>0</td>\n",
       "      <td>0</td>\n",
       "    </tr>\n",
       "    <tr>\n",
       "      <th>1011</th>\n",
       "      <td>2016</td>\n",
       "      <td>Buick</td>\n",
       "      <td>Encore Convenience</td>\n",
       "      <td>USED</td>\n",
       "      <td>24000</td>\n",
       "      <td>13500.0</td>\n",
       "      <td>Automatic</td>\n",
       "      <td>Other</td>\n",
       "      <td>Other</td>\n",
       "      <td>AWD</td>\n",
       "      <td>...</td>\n",
       "      <td>0</td>\n",
       "      <td>0</td>\n",
       "      <td>0</td>\n",
       "      <td>0</td>\n",
       "      <td>0</td>\n",
       "      <td>0</td>\n",
       "      <td>0</td>\n",
       "      <td>0</td>\n",
       "      <td>0</td>\n",
       "      <td>0</td>\n",
       "    </tr>\n",
       "  </tbody>\n",
       "</table>\n",
       "<p>2 rows × 34 columns</p>\n",
       "</div>"
      ],
      "text/plain": [
       "      Year  Brand               Model Title   Mile    Price Transmition  \\\n",
       "1010  2002  Buick       Rendezvous CX  USED  90002   2999.0   Automatic   \n",
       "1011  2016  Buick  Encore Convenience  USED  24000  13500.0   Automatic   \n",
       "\n",
       "     EXT_COLOR INT_COLOR Derivtrain  ...  Cadillac  Chevrolet  Chrysler  \\\n",
       "1010     Other      Gray        FWD  ...         0          0         0   \n",
       "1011     Other     Other        AWD  ...         0          0         0   \n",
       "\n",
       "      Dodge  Ford  Honda  Hyundai  Kia  Nissan  Toyota  \n",
       "1010      0     0      0        0    0       0       0  \n",
       "1011      0     0      0        0    0       0       0  \n",
       "\n",
       "[2 rows x 34 columns]"
      ]
     },
     "execution_count": 26,
     "metadata": {},
     "output_type": "execute_result"
    }
   ],
   "source": [
    "df_brand = pd.get_dummies(car_train['Brand'])\n",
    "car_train = pd.concat([car_train, df_brand], axis=1)\n",
    "car_train.head(2)"
   ]
  },
  {
   "cell_type": "code",
   "execution_count": 27,
   "metadata": {},
   "outputs": [
    {
     "data": {
      "text/html": [
       "<div>\n",
       "<style scoped>\n",
       "    .dataframe tbody tr th:only-of-type {\n",
       "        vertical-align: middle;\n",
       "    }\n",
       "\n",
       "    .dataframe tbody tr th {\n",
       "        vertical-align: top;\n",
       "    }\n",
       "\n",
       "    .dataframe thead th {\n",
       "        text-align: right;\n",
       "    }\n",
       "</style>\n",
       "<table border=\"1\" class=\"dataframe\">\n",
       "  <thead>\n",
       "    <tr style=\"text-align: right;\">\n",
       "      <th></th>\n",
       "      <th>Year</th>\n",
       "      <th>Brand</th>\n",
       "      <th>Model</th>\n",
       "      <th>Title</th>\n",
       "      <th>Mile</th>\n",
       "      <th>Price</th>\n",
       "      <th>Transmition</th>\n",
       "      <th>EXT_COLOR</th>\n",
       "      <th>INT_COLOR</th>\n",
       "      <th>Derivtrain</th>\n",
       "      <th>...</th>\n",
       "      <th>Cadillac</th>\n",
       "      <th>Chevrolet</th>\n",
       "      <th>Chrysler</th>\n",
       "      <th>Dodge</th>\n",
       "      <th>Ford</th>\n",
       "      <th>Honda</th>\n",
       "      <th>Hyundai</th>\n",
       "      <th>Kia</th>\n",
       "      <th>Nissan</th>\n",
       "      <th>Toyota</th>\n",
       "    </tr>\n",
       "  </thead>\n",
       "  <tbody>\n",
       "    <tr>\n",
       "      <th>1010</th>\n",
       "      <td>2002</td>\n",
       "      <td>Buick</td>\n",
       "      <td>Rendezvous CX</td>\n",
       "      <td>USED</td>\n",
       "      <td>90002</td>\n",
       "      <td>2999.0</td>\n",
       "      <td>Automatic</td>\n",
       "      <td>Other</td>\n",
       "      <td>Gray</td>\n",
       "      <td>FWD</td>\n",
       "      <td>...</td>\n",
       "      <td>0</td>\n",
       "      <td>0</td>\n",
       "      <td>0</td>\n",
       "      <td>0</td>\n",
       "      <td>0</td>\n",
       "      <td>0</td>\n",
       "      <td>0</td>\n",
       "      <td>0</td>\n",
       "      <td>0</td>\n",
       "      <td>0</td>\n",
       "    </tr>\n",
       "    <tr>\n",
       "      <th>1011</th>\n",
       "      <td>2016</td>\n",
       "      <td>Buick</td>\n",
       "      <td>Encore Convenience</td>\n",
       "      <td>USED</td>\n",
       "      <td>24000</td>\n",
       "      <td>13500.0</td>\n",
       "      <td>Automatic</td>\n",
       "      <td>Other</td>\n",
       "      <td>Other</td>\n",
       "      <td>AWD</td>\n",
       "      <td>...</td>\n",
       "      <td>0</td>\n",
       "      <td>0</td>\n",
       "      <td>0</td>\n",
       "      <td>0</td>\n",
       "      <td>0</td>\n",
       "      <td>0</td>\n",
       "      <td>0</td>\n",
       "      <td>0</td>\n",
       "      <td>0</td>\n",
       "      <td>0</td>\n",
       "    </tr>\n",
       "  </tbody>\n",
       "</table>\n",
       "<p>2 rows × 34 columns</p>\n",
       "</div>"
      ],
      "text/plain": [
       "      Year  Brand               Model Title   Mile    Price Transmition  \\\n",
       "1010  2002  Buick       Rendezvous CX  USED  90002   2999.0   Automatic   \n",
       "1011  2016  Buick  Encore Convenience  USED  24000  13500.0   Automatic   \n",
       "\n",
       "     EXT_COLOR INT_COLOR Derivtrain  ...  Cadillac  Chevrolet  Chrysler  \\\n",
       "1010     Other      Gray        FWD  ...         0          0         0   \n",
       "1011     Other     Other        AWD  ...         0          0         0   \n",
       "\n",
       "      Dodge  Ford  Honda  Hyundai  Kia  Nissan  Toyota  \n",
       "1010      0     0      0        0    0       0       0  \n",
       "1011      0     0      0        0    0       0       0  \n",
       "\n",
       "[2 rows x 34 columns]"
      ]
     },
     "execution_count": 27,
     "metadata": {},
     "output_type": "execute_result"
    }
   ],
   "source": [
    "df_brand = pd.get_dummies(car_test['Brand'])\n",
    "car_test = pd.concat([car_test, df_brand], axis=1)\n",
    "car_test.head(2)"
   ]
  },
  {
   "cell_type": "code",
   "execution_count": 28,
   "metadata": {},
   "outputs": [
    {
     "name": "stdout",
     "output_type": "stream",
     "text": [
      "A FWD Toyota car with 85000 miles in Riverside can predict to be: $ 10593.4\n"
     ]
    }
   ],
   "source": [
    "from sklearn.linear_model import LinearRegression\n",
    "\n",
    "ashen_model = LinearRegression()\n",
    "ashen_model.fit(\n",
    "    X=car_train[[\"FWD\", \"Riverside\", \"Mile\", \"Year\", \"Toyota\"]],\n",
    "    y=car_train[\"Price\"]\n",
    ")\n",
    "\n",
    "x_test = pd.Series()\n",
    "x_test[\"FWD\"] = 1\n",
    "x_test[\"Riverside\"] = 1\n",
    "x_test[\"Mile\"] = 85000.0\n",
    "x_test[\"Year\"] = 2015\n",
    "x_test[\"Toyota\"] = 1\n",
    "\n",
    "result = ashen_model.predict(X=pd.DataFrame([x_test]))\n",
    "print(\"A FWD Toyota car with 85000 miles in Riverside can predict to be: $\",result[0].round(2))"
   ]
  },
  {
   "cell_type": "code",
   "execution_count": 29,
   "metadata": {},
   "outputs": [
    {
     "name": "stdout",
     "output_type": "stream",
     "text": [
      "A FWD Chevrolet car with 85000 miles in Riverside can predict to be: $ 6286.61\n"
     ]
    }
   ],
   "source": [
    "from sklearn.linear_model import LinearRegression\n",
    "\n",
    "ashen_model = LinearRegression()\n",
    "ashen_model.fit(\n",
    "    X=car_train[[\"FWD\", \"Riverside\", \"Mile\", \"Year\", \"Chevrolet\"]],\n",
    "    y=car_train[\"Price\"]\n",
    ")\n",
    "\n",
    "x_test = pd.Series()\n",
    "x_test[\"FWD\"] = 1\n",
    "x_test[\"Riverside\"] = 1\n",
    "x_test[\"Mile\"] = 85000.0\n",
    "x_test[\"Year\"] = 2015\n",
    "x_test[\"Chevrolet\"] = 1\n",
    "\n",
    "result = ashen_model.predict(X=pd.DataFrame([x_test]))\n",
    "print(\"A FWD Chevrolet car with 85000 miles in Riverside can predict to be: $\",result[0].round(2))"
   ]
  },
  {
   "cell_type": "code",
   "execution_count": 30,
   "metadata": {},
   "outputs": [
    {
     "name": "stdout",
     "output_type": "stream",
     "text": [
      "A FWD Chevrolet car with 85000 miles in Riverside can predict to be: $ 10581.53\n"
     ]
    }
   ],
   "source": [
    "from sklearn.linear_model import LinearRegression\n",
    "\n",
    "ashen_model = LinearRegression()\n",
    "ashen_model.fit(\n",
    "    X=car_train[[\"FWD\", \"Kansas\", \"Mile\", \"Year\", \"Toyota\"]],\n",
    "    y=car_train[\"Price\"]\n",
    ")\n",
    "\n",
    "x_test = pd.Series()\n",
    "x_test[\"FWD\"] = 1\n",
    "x_test[\"Kansas\"] = 1\n",
    "x_test[\"Mile\"] = 85000.0\n",
    "x_test[\"Year\"] = 2015\n",
    "x_test[\"Toyota\"] = 1\n",
    "\n",
    "result = ashen_model.predict(X=pd.DataFrame([x_test]))\n",
    "print(\"A FWD Chevrolet car with 85000 miles in Riverside can predict to be: $\",result[0].round(2))"
   ]
  },
  {
   "cell_type": "code",
   "execution_count": 31,
   "metadata": {},
   "outputs": [
    {
     "name": "stdout",
     "output_type": "stream",
     "text": [
      "A FWD Ford car with 45000 miles in Riverside can predict to be: $ 15378.21\n"
     ]
    }
   ],
   "source": [
    "from sklearn.linear_model import LinearRegression\n",
    "\n",
    "ashen_model = LinearRegression()\n",
    "ashen_model.fit(\n",
    "    X=car_train[[\"FWD\", \"Riverside\", \"Mile\", \"Year\", \"Ford\"]],\n",
    "    y=car_train[\"Price\"]\n",
    ")\n",
    "\n",
    "x_test = pd.Series()\n",
    "x_test[\"FWD\"] = 1\n",
    "x_test[\"Riverside\"] = 1\n",
    "x_test[\"Mile\"] = 45000.0\n",
    "x_test[\"Year\"] = 2019\n",
    "x_test[\"Ford\"] = 1\n",
    "\n",
    "result = ashen_model.predict(X=pd.DataFrame([x_test]))\n",
    "print(\"A FWD Ford car with 45000 miles in Riverside can predict to be: $\",result[0].round(2))"
   ]
  },
  {
   "cell_type": "markdown",
   "metadata": {},
   "source": [
    "**Zipcode matter sometimes, in some brand and some specification of cars. The most important part of this prediction can address; are brands and years. When I added them into my model I could get a better result, and these two categories are really matter when someone looking for a car.**\n"
   ]
  },
  {
   "cell_type": "code",
   "execution_count": 32,
   "metadata": {},
   "outputs": [
    {
     "name": "stdout",
     "output_type": "stream",
     "text": [
      "[5297.52438424 5297.52438424 5470.75836549 ... 2923.04932909 2550.9982892\n",
      " 2922.68385656]\n"
     ]
    }
   ],
   "source": [
    "from sklearn.linear_model import LinearRegression\n",
    "\n",
    "X_train = car_df_train[[\"Price\"]]\n",
    "X_test = car_df_test[[\"Price\"]]\n",
    "y_train = car_df_train[\"Mile\"]\n",
    "\n",
    "model = LinearRegression(fit_intercept= False)\n",
    "model.fit(X=X_train, y=y_train)\n",
    "answer = model.predict(X=X_test)\n",
    "print(answer)"
   ]
  },
  {
   "cell_type": "code",
   "execution_count": 33,
   "metadata": {},
   "outputs": [
    {
     "data": {
      "text/plain": [
       "[<matplotlib.lines.Line2D at 0x7fca77fef390>]"
      ]
     },
     "execution_count": 33,
     "metadata": {},
     "output_type": "execute_result"
    },
    {
     "data": {
      "image/png": "[encoded data removed]",
      "text/plain": [
       "<Figure size 432x288 with 1 Axes>"
      ]
     },
     "metadata": {
      "needs_background": "light"
     },
     "output_type": "display_data"
    }
   ],
   "source": [
    "import numpy as np\n",
    "def func(x, a, b, c):\n",
    "    return a * np.exp(-b * x) + c\n",
    "\n",
    "X_new = pd.DataFrame()\n",
    "# create a sequence of 100 evenly spaced numbers from 0 to 55\n",
    "X_new[\"Price\"] = np.linspace(0, 80000, num=15)\n",
    "\n",
    "y = func(model.predict(X_new), 2.5, 1.3, 0.5)\n",
    "np.random.seed(1729)\n",
    "y_noise = 0.2 * np.random.normal(size=X_new.size)\n",
    "ydata = y + y_noise\n",
    "\n",
    "#car_df_train.plot.scatter(x=\"Price\", y=\"Mile\")\n",
    "plt.plot(X_new, ydata, 'b-', label='data')"
   ]
  },
  {
   "cell_type": "markdown",
   "metadata": {},
   "source": [
    "**This plot can show us how the mile and prices are distributing just not as a straight line.** "
   ]
  },
  {
   "cell_type": "markdown",
   "metadata": {},
   "source": [
    "# Build a better model\n",
    "**We can use cross-validation method for our prediction** "
   ]
  },
  {
   "cell_type": "code",
   "execution_count": 34,
   "metadata": {},
   "outputs": [
    {
     "data": {
      "text/html": [
       "<div>\n",
       "<style scoped>\n",
       "    .dataframe tbody tr th:only-of-type {\n",
       "        vertical-align: middle;\n",
       "    }\n",
       "\n",
       "    .dataframe tbody tr th {\n",
       "        vertical-align: top;\n",
       "    }\n",
       "\n",
       "    .dataframe thead th {\n",
       "        text-align: right;\n",
       "    }\n",
       "</style>\n",
       "<table border=\"1\" class=\"dataframe\">\n",
       "  <thead>\n",
       "    <tr style=\"text-align: right;\">\n",
       "      <th></th>\n",
       "      <th>Price</th>\n",
       "      <th>Mile</th>\n",
       "    </tr>\n",
       "  </thead>\n",
       "  <tbody>\n",
       "    <tr>\n",
       "      <th>0</th>\n",
       "      <td>14495.0</td>\n",
       "      <td>37874</td>\n",
       "    </tr>\n",
       "    <tr>\n",
       "      <th>1</th>\n",
       "      <td>14495.0</td>\n",
       "      <td>37874</td>\n",
       "    </tr>\n",
       "  </tbody>\n",
       "</table>\n",
       "</div>"
      ],
      "text/plain": [
       "     Price   Mile\n",
       "0  14495.0  37874\n",
       "1  14495.0  37874"
      ]
     },
     "execution_count": 34,
     "metadata": {},
     "output_type": "execute_result"
    }
   ],
   "source": [
    "X_train = car_df_train.copy(deep=True) # copy the dataframe \n",
    "X_train = X_train[[\"Price\",\"Mile\"]] \n",
    "\n",
    "X_train.head(2)"
   ]
  },
  {
   "cell_type": "code",
   "execution_count": 35,
   "metadata": {},
   "outputs": [
    {
     "data": {
      "text/html": [
       "<div>\n",
       "<style scoped>\n",
       "    .dataframe tbody tr th:only-of-type {\n",
       "        vertical-align: middle;\n",
       "    }\n",
       "\n",
       "    .dataframe tbody tr th {\n",
       "        vertical-align: top;\n",
       "    }\n",
       "\n",
       "    .dataframe thead th {\n",
       "        text-align: right;\n",
       "    }\n",
       "</style>\n",
       "<table border=\"1\" class=\"dataframe\">\n",
       "  <thead>\n",
       "    <tr style=\"text-align: right;\">\n",
       "      <th></th>\n",
       "      <th>Price</th>\n",
       "      <th>Mile</th>\n",
       "    </tr>\n",
       "  </thead>\n",
       "  <tbody>\n",
       "    <tr>\n",
       "      <th>0</th>\n",
       "      <td>14495.0</td>\n",
       "      <td>37874</td>\n",
       "    </tr>\n",
       "    <tr>\n",
       "      <th>1</th>\n",
       "      <td>14495.0</td>\n",
       "      <td>37874</td>\n",
       "    </tr>\n",
       "  </tbody>\n",
       "</table>\n",
       "</div>"
      ],
      "text/plain": [
       "     Price   Mile\n",
       "0  14495.0  37874\n",
       "1  14495.0  37874"
      ]
     },
     "execution_count": 35,
     "metadata": {},
     "output_type": "execute_result"
    }
   ],
   "source": [
    "X_test = car_df_test.copy(deep=True) # copy the dataframe \n",
    "X_test = X_test[[\"Price\",\"Mile\"]]\n",
    "X_test.head(2)"
   ]
  },
  {
   "cell_type": "code",
   "execution_count": 36,
   "metadata": {},
   "outputs": [
    {
     "data": {
      "text/plain": [
       "array([0.99999999, 0.99999997, 0.99999998, 0.99999998, 0.99999999])"
      ]
     },
     "execution_count": 36,
     "metadata": {},
     "output_type": "execute_result"
    }
   ],
   "source": [
    "from sklearn.model_selection import cross_val_score\n",
    "from sklearn.metrics import mean_squared_error\n",
    "from sklearn.preprocessing import StandardScaler\n",
    "from sklearn.linear_model import SGDRegressor\n",
    "from sklearn.pipeline import make_pipeline\n",
    "\n",
    "# pipeline and fit to training set\n",
    "pipeline = make_pipeline(\n",
    "    StandardScaler(),\n",
    "    SGDRegressor()\n",
    ")\n",
    "pipeline.fit(X=X_train, y=y_train)\n",
    "    \n",
    "scores = cross_val_score(pipeline, \n",
    "                         X=X_train,\n",
    "                         y=y_train,\n",
    "                         cv=5)  # cv refers to number of cross-validation cuts\n",
    "scores"
   ]
  },
  {
   "cell_type": "code",
   "execution_count": 37,
   "metadata": {},
   "outputs": [
    {
     "data": {
      "text/html": [
       "<div>\n",
       "<style scoped>\n",
       "    .dataframe tbody tr th:only-of-type {\n",
       "        vertical-align: middle;\n",
       "    }\n",
       "\n",
       "    .dataframe tbody tr th {\n",
       "        vertical-align: top;\n",
       "    }\n",
       "\n",
       "    .dataframe thead th {\n",
       "        text-align: right;\n",
       "    }\n",
       "</style>\n",
       "<table border=\"1\" class=\"dataframe\">\n",
       "  <thead>\n",
       "    <tr style=\"text-align: right;\">\n",
       "      <th></th>\n",
       "      <th>Brand</th>\n",
       "      <th>Mile</th>\n",
       "    </tr>\n",
       "  </thead>\n",
       "  <tbody>\n",
       "    <tr>\n",
       "      <th>0</th>\n",
       "      <td>Acura</td>\n",
       "      <td>37872.050977</td>\n",
       "    </tr>\n",
       "    <tr>\n",
       "      <th>1</th>\n",
       "      <td>Acura</td>\n",
       "      <td>37872.050977</td>\n",
       "    </tr>\n",
       "    <tr>\n",
       "      <th>2</th>\n",
       "      <td>Acura</td>\n",
       "      <td>29315.978081</td>\n",
       "    </tr>\n",
       "    <tr>\n",
       "      <th>3</th>\n",
       "      <td>Acura</td>\n",
       "      <td>22731.778318</td>\n",
       "    </tr>\n",
       "    <tr>\n",
       "      <th>4</th>\n",
       "      <td>Acura</td>\n",
       "      <td>0.571005</td>\n",
       "    </tr>\n",
       "    <tr>\n",
       "      <th>5</th>\n",
       "      <td>Acura</td>\n",
       "      <td>61963.711037</td>\n",
       "    </tr>\n",
       "    <tr>\n",
       "      <th>6</th>\n",
       "      <td>Acura</td>\n",
       "      <td>62978.103295</td>\n",
       "    </tr>\n",
       "    <tr>\n",
       "      <th>7</th>\n",
       "      <td>Acura</td>\n",
       "      <td>85118.320264</td>\n",
       "    </tr>\n",
       "    <tr>\n",
       "      <th>8</th>\n",
       "      <td>Acura</td>\n",
       "      <td>162984.543928</td>\n",
       "    </tr>\n",
       "    <tr>\n",
       "      <th>9</th>\n",
       "      <td>Acura</td>\n",
       "      <td>124750.616785</td>\n",
       "    </tr>\n",
       "  </tbody>\n",
       "</table>\n",
       "</div>"
      ],
      "text/plain": [
       "   Brand           Mile\n",
       "0  Acura   37872.050977\n",
       "1  Acura   37872.050977\n",
       "2  Acura   29315.978081\n",
       "3  Acura   22731.778318\n",
       "4  Acura       0.571005\n",
       "5  Acura   61963.711037\n",
       "6  Acura   62978.103295\n",
       "7  Acura   85118.320264\n",
       "8  Acura  162984.543928\n",
       "9  Acura  124750.616785"
      ]
     },
     "execution_count": 37,
     "metadata": {},
     "output_type": "execute_result"
    }
   ],
   "source": [
    "Y_predict = pipeline.predict(X=X_test)\n",
    "output=pd.DataFrame(data={\"Brand\":car_df_test[\"Brand\"],\"Mile\":Y_predict}) \n",
    "output.head(10)"
   ]
  },
  {
   "cell_type": "markdown",
   "metadata": {},
   "source": [
    "Now, this output of our data frame has more sense about miles since even brand new cars can not have 0 miles, due to transfers to different dealerships. Even you buy a new car, the mileage of that car is not 0, so with our model, we can predict this and get a better result. "
   ]
  },
  {
   "cell_type": "markdown",
   "metadata": {},
   "source": [
    "#### We can do this prediction on Prices"
   ]
  },
  {
   "cell_type": "code",
   "execution_count": 38,
   "metadata": {},
   "outputs": [
    {
     "data": {
      "text/html": [
       "<div>\n",
       "<style scoped>\n",
       "    .dataframe tbody tr th:only-of-type {\n",
       "        vertical-align: middle;\n",
       "    }\n",
       "\n",
       "    .dataframe tbody tr th {\n",
       "        vertical-align: top;\n",
       "    }\n",
       "\n",
       "    .dataframe thead th {\n",
       "        text-align: right;\n",
       "    }\n",
       "</style>\n",
       "<table border=\"1\" class=\"dataframe\">\n",
       "  <thead>\n",
       "    <tr style=\"text-align: right;\">\n",
       "      <th></th>\n",
       "      <th>Price</th>\n",
       "    </tr>\n",
       "  </thead>\n",
       "  <tbody>\n",
       "    <tr>\n",
       "      <th>0</th>\n",
       "      <td>14495.0</td>\n",
       "    </tr>\n",
       "    <tr>\n",
       "      <th>1</th>\n",
       "      <td>14495.0</td>\n",
       "    </tr>\n",
       "  </tbody>\n",
       "</table>\n",
       "</div>"
      ],
      "text/plain": [
       "     Price\n",
       "0  14495.0\n",
       "1  14495.0"
      ]
     },
     "execution_count": 38,
     "metadata": {},
     "output_type": "execute_result"
    }
   ],
   "source": [
    "X_train = car_df_train.copy(deep=True) # copy the dataframe \n",
    "X_train = X_train[[\"Price\"]] \n",
    "\n",
    "X_train.head(2)"
   ]
  },
  {
   "cell_type": "code",
   "execution_count": 39,
   "metadata": {},
   "outputs": [
    {
     "data": {
      "text/html": [
       "<div>\n",
       "<style scoped>\n",
       "    .dataframe tbody tr th:only-of-type {\n",
       "        vertical-align: middle;\n",
       "    }\n",
       "\n",
       "    .dataframe tbody tr th {\n",
       "        vertical-align: top;\n",
       "    }\n",
       "\n",
       "    .dataframe thead th {\n",
       "        text-align: right;\n",
       "    }\n",
       "</style>\n",
       "<table border=\"1\" class=\"dataframe\">\n",
       "  <thead>\n",
       "    <tr style=\"text-align: right;\">\n",
       "      <th></th>\n",
       "      <th>Price</th>\n",
       "    </tr>\n",
       "  </thead>\n",
       "  <tbody>\n",
       "    <tr>\n",
       "      <th>0</th>\n",
       "      <td>14495.0</td>\n",
       "    </tr>\n",
       "    <tr>\n",
       "      <th>1</th>\n",
       "      <td>14495.0</td>\n",
       "    </tr>\n",
       "  </tbody>\n",
       "</table>\n",
       "</div>"
      ],
      "text/plain": [
       "     Price\n",
       "0  14495.0\n",
       "1  14495.0"
      ]
     },
     "execution_count": 39,
     "metadata": {},
     "output_type": "execute_result"
    }
   ],
   "source": [
    "X_test = car_df_test.copy(deep=True) # copy the dataframe \n",
    "X_test = X_test[[\"Price\"]]\n",
    "X_test.head(2)"
   ]
  },
  {
   "cell_type": "code",
   "execution_count": 40,
   "metadata": {},
   "outputs": [],
   "source": [
    "from sklearn.ensemble import GradientBoostingRegressor\n",
    "from sklearn.ensemble import RandomForestRegressor\n",
    "from sklearn.linear_model import LinearRegression\n",
    "from sklearn.ensemble import VotingRegressor\n",
    "\n",
    "reg1 = GradientBoostingRegressor(random_state=1, n_estimators=10)\n",
    "reg2 = RandomForestRegressor(random_state=1, n_estimators=10)\n",
    "reg3 = LinearRegression()\n",
    "ereg = VotingRegressor(estimators=[('gb', reg1), ('rf', reg2), ('lr', reg3)])\n",
    "ereg = ereg.fit(X_train, y_train)\n",
    "\n",
    "\n",
    "Y_predict = ereg.predict(X=X_test)\n",
    "output=pd.DataFrame(data={\"Brand\":car_df_test[\"Brand\"],\"Price\":Y_predict})"
   ]
  },
  {
   "cell_type": "code",
   "execution_count": 41,
   "metadata": {},
   "outputs": [
    {
     "name": "stdout",
     "output_type": "stream",
     "text": [
      "Output new list of our cars with new prediction price :\n",
      "\n",
      "\n"
     ]
    },
    {
     "data": {
      "text/html": [
       "<div>\n",
       "<style scoped>\n",
       "    .dataframe tbody tr th:only-of-type {\n",
       "        vertical-align: middle;\n",
       "    }\n",
       "\n",
       "    .dataframe tbody tr th {\n",
       "        vertical-align: top;\n",
       "    }\n",
       "\n",
       "    .dataframe thead th {\n",
       "        text-align: right;\n",
       "    }\n",
       "</style>\n",
       "<table border=\"1\" class=\"dataframe\">\n",
       "  <thead>\n",
       "    <tr style=\"text-align: right;\">\n",
       "      <th></th>\n",
       "      <th>Brand</th>\n",
       "      <th>Price</th>\n",
       "    </tr>\n",
       "  </thead>\n",
       "  <tbody>\n",
       "    <tr>\n",
       "      <th>0</th>\n",
       "      <td>Acura</td>\n",
       "      <td>29924.944562</td>\n",
       "    </tr>\n",
       "    <tr>\n",
       "      <th>1</th>\n",
       "      <td>Acura</td>\n",
       "      <td>29924.944562</td>\n",
       "    </tr>\n",
       "    <tr>\n",
       "      <th>2</th>\n",
       "      <td>Acura</td>\n",
       "      <td>19269.821053</td>\n",
       "    </tr>\n",
       "    <tr>\n",
       "      <th>3</th>\n",
       "      <td>Acura</td>\n",
       "      <td>25416.344185</td>\n",
       "    </tr>\n",
       "    <tr>\n",
       "      <th>4</th>\n",
       "      <td>Acura</td>\n",
       "      <td>6321.624853</td>\n",
       "    </tr>\n",
       "    <tr>\n",
       "      <th>...</th>\n",
       "      <td>...</td>\n",
       "      <td>...</td>\n",
       "    </tr>\n",
       "    <tr>\n",
       "      <th>28781</th>\n",
       "      <td>smart</td>\n",
       "      <td>39328.948374</td>\n",
       "    </tr>\n",
       "    <tr>\n",
       "      <th>28782</th>\n",
       "      <td>smart</td>\n",
       "      <td>43867.184643</td>\n",
       "    </tr>\n",
       "    <tr>\n",
       "      <th>28783</th>\n",
       "      <td>smart</td>\n",
       "      <td>39328.948374</td>\n",
       "    </tr>\n",
       "    <tr>\n",
       "      <th>28784</th>\n",
       "      <td>smart</td>\n",
       "      <td>41698.664858</td>\n",
       "    </tr>\n",
       "    <tr>\n",
       "      <th>28785</th>\n",
       "      <td>smart</td>\n",
       "      <td>42719.585589</td>\n",
       "    </tr>\n",
       "  </tbody>\n",
       "</table>\n",
       "<p>28786 rows × 2 columns</p>\n",
       "</div>"
      ],
      "text/plain": [
       "       Brand         Price\n",
       "0      Acura  29924.944562\n",
       "1      Acura  29924.944562\n",
       "2      Acura  19269.821053\n",
       "3      Acura  25416.344185\n",
       "4      Acura   6321.624853\n",
       "...      ...           ...\n",
       "28781  smart  39328.948374\n",
       "28782  smart  43867.184643\n",
       "28783  smart  39328.948374\n",
       "28784  smart  41698.664858\n",
       "28785  smart  42719.585589\n",
       "\n",
       "[28786 rows x 2 columns]"
      ]
     },
     "execution_count": 41,
     "metadata": {},
     "output_type": "execute_result"
    }
   ],
   "source": [
    "print(\"Output new list of our cars with new prediction price :\\n\\n\")\n",
    "output"
   ]
  },
  {
   "cell_type": "markdown",
   "metadata": {},
   "source": [
    "### Hypotheses :\n",
    "We did our visualization regarding Brands, Miles, EXT_color(body colors), zip-code, type of cars, Year,  and **Price**. we built our model based on these categories. we saw that zip-code with Mile and car brands would change our prediction. we can make our model and prediction based on these areas and zip code much better when we collect more data from different sources. Since we added Brand we received a better number, and compared some brands with the same specification and saw our result.\n",
    "\n",
    "In the end, we used two different models for miles prediction and price and we saw the result, we also can replace them into our original dataset, and do more, and different visualization. We choose to build the model on these two categories since these two are the most important part of cars, and for new cars, 0 mileage is not making sense, better become with a number. \n",
    "\n",
    "**I hope this project gives people some idea about which future of cars is important, how brands matter, what color is more popular in the market, etc.**   "
   ]
  }
 ],
 "metadata": {
  "kernelspec": {
   "display_name": "Python 3",
   "language": "python",
   "name": "python3"
  },
  "language_info": {
   "codemirror_mode": {
    "name": "ipython",
    "version": 3
   },
   "file_extension": ".py",
   "mimetype": "text/x-python",
   "name": "python",
   "nbconvert_exporter": "python",
   "pygments_lexer": "ipython3",
   "version": "3.6.8"
  }
 },
 "nbformat": 4,
 "nbformat_minor": 4
}
